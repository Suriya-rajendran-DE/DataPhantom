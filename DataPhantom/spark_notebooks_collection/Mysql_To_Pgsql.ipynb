{
 "cells": [
  {
   "cell_type": "code",
   "execution_count": null,
   "id": "023965f6-c960-43a6-ba12-f692d8894ae1",
   "metadata": {},
   "outputs": [
    {
     "data": {
      "text/html": [
       "\n",
       "            <div>\n",
       "                <p><b>SparkSession - hive</b></p>\n",
       "                \n",
       "        <div>\n",
       "            <p><b>SparkContext</b></p>\n",
       "\n",
       "            <p><a href=\"http://192.168.31.178:4040\">Spark UI</a></p>\n",
       "\n",
       "            <dl>\n",
       "              <dt>Version</dt>\n",
       "                <dd><code>v3.5.5</code></dd>\n",
       "              <dt>Master</dt>\n",
       "                <dd><code>local[*]</code></dd>\n",
       "              <dt>AppName</dt>\n",
       "                <dd><code>CustomerTransactionsPipeline</code></dd>\n",
       "            </dl>\n",
       "        </div>\n",
       "        \n",
       "            </div>\n",
       "        "
      ],
      "text/plain": [
       "<pyspark.sql.session.SparkSession at 0x231cc0160d0>"
      ]
     },
     "execution_count": 103,
     "metadata": {},
     "output_type": "execute_result"
    }
   ],
   "source": [
    "from pyspark.sql import SparkSession\n",
    "\n",
    "spark = (\n",
    "    SparkSession.builder\n",
    "    .appName(\"CustomerTransactionsPipeline\")\n",
    "    .config(\"spark.sql.catalogImplementation\", \"hive\")  # Enable Hive support\n",
    "    .config(\"spark.sql.warehouse.dir\", \"/user/hive/warehouse/mysqltopgsql\")  # HDFS location\n",
    "    .enableHiveSupport()\n",
    "    .getOrCreate()\n",
    ")\n",
    "\n",
    "spark"
   ]
  },
  {
   "cell_type": "code",
   "execution_count": 104,
   "id": "2555c78f-424a-47f5-9900-ab0466a27b69",
   "metadata": {},
   "outputs": [
    {
     "name": "stdout",
     "output_type": "stream",
     "text": [
      "Connection successful. Rows fetched: 50\n"
     ]
    }
   ],
   "source": [
    "mysql_props = {\n",
    "    \"user\": \"root\",\n",
    "    \"password\": \"Root\",\n",
    "    \"driver\": \"com.mysql.cj.jdbc.Driver\"\n",
    "}\n",
    "\n",
    "try:\n",
    "    df_mysql = spark.read.jdbc(\n",
    "        url=\"jdbc:mysql://localhost:3306/customer\",\n",
    "        table=\"customers_transaction\",\n",
    "        properties=mysql_props\n",
    "    )\n",
    "    print(\"Connection successful. Rows fetched:\", df_mysql.count())\n",
    "except Exception as e:\n",
    "    print(\"Connection failed:\", str(e))\n"
   ]
  },
  {
   "cell_type": "code",
   "execution_count": 105,
   "id": "5fb5eb6e-4dee-4249-ae3d-679cee6f5e3c",
   "metadata": {},
   "outputs": [],
   "source": [
    "df_mysql.write.mode(\"overwrite\").parquet(\"hdfs:///data/landing/customers_transaction_raw\")"
   ]
  },
  {
   "cell_type": "code",
   "execution_count": null,
   "id": "d4aa00b1-b42b-4c7c-a59c-5b92ec78defc",
   "metadata": {},
   "outputs": [],
   "source": []
  },
  {
   "cell_type": "code",
   "execution_count": 106,
   "id": "09672077-fd9c-40c8-8c2c-4947f483ff09",
   "metadata": {},
   "outputs": [
    {
     "name": "stdout",
     "output_type": "stream",
     "text": [
      "+----------+------------+--------------------+---------------+-------+--------+-------------+-------------------+---------+---------+\n",
      "|CustomerID|        Name|               Email|TransactionDate| Amount|Currency|     Location|            Address|ProductID|  Remarks|\n",
      "+----------+------------+--------------------+---------------+-------+--------+-------------+-------------------+---------+---------+\n",
      "|      1001|    JOHN DOE|    john.doe@xyz.com|     2023/04/12|$120.50|     USD|     New York|123 Baker St,NY,USA|     P123|     NULL|\n",
      "|      1002|    Jane doe|    jane.doe@xyz.com|     04-13-2023|   98.6|     usd|       Boston| 456 Elm Street, MA|     P124|delivered|\n",
      "|      1003|Robert Smith|   rob.smith@xyz.com|     13-04-2023|   NULL|     USD|  Los Angeles| 789 Sunset Blvd,CA|     P125|     NULL|\n",
      "|      1004|Mary Johnson|                NULL|     2023-04-15|$205.00|     USD|      Chicago|  321 Pine, IL, USA|     P123| refunded|\n",
      "|      1002|    Jane doe|    jane.doe@xyz.com|     04-13-2023|   98.6|     usd|       Boston| 456 Elm Street, MA|     P124|delivered|\n",
      "|      1005|       Alice|alice.williams@xy...|     2023/04/16| 300.25|     USD|       Boston|        404 5th Ave|     NULL|  pending|\n",
      "|      1006|        NULL|        mike@xyz.com|     2023.04.17|    NaN|     USD|       Dallas|   900 Highland, TX|     P127|     NULL|\n",
      "|      1007|   David, Jr|     davidjr@xyz.com|      2023-4-17|  85.99|     Usd|San Francisco|    12 Mission Blvd|     P128|completed|\n",
      "|      1008|   Ana María|   ana.maria@xyz.com|     17/04/2023| €99.99|     EUR|       Madrid|   Calle 12, Madrid|     P129|       OK|\n",
      "|      1009|  Léa Dubois|  lea.dubois@xyz.com|     2023/04/18| 112.10|     EUR|        Paris|45 Rue Saint, Paris|     P130|     NULL|\n",
      "+----------+------------+--------------------+---------------+-------+--------+-------------+-------------------+---------+---------+\n",
      "only showing top 10 rows\n",
      "\n"
     ]
    }
   ],
   "source": [
    "df_mysql.show(10)"
   ]
  },
  {
   "cell_type": "code",
   "execution_count": 10,
   "id": "adf66d88-8571-4907-9920-82d9c79ccce5",
   "metadata": {},
   "outputs": [
    {
     "data": {
      "text/plain": [
       "DataFrame[]"
      ]
     },
     "execution_count": 10,
     "metadata": {},
     "output_type": "execute_result"
    }
   ],
   "source": [
    "spark.sql(\"\"\"\n",
    "\n",
    "CREATE EXTERNAL TABLE customers_transaction_raw_tbl (\n",
    "    CustomerID INT,\n",
    "    Name STRING,\n",
    "    Email STRING,\n",
    "    TransactionDate STRING,\n",
    "    Amount STRING,\n",
    "    Currency STRING,\n",
    "    Location STRING,\n",
    "    Address STRING,\n",
    "    ProductID STRING,\n",
    "    Remarks STRING\n",
    ")\n",
    "STORED AS PARQUET\n",
    "LOCATION 'hdfs://localhost:9000/raw_tbls/';\n",
    "\"\"\")\n",
    "\n",
    "spark.sql(\"\"\"\n",
    "LOAD DATA INPATH 'hdfs:///data/landing/customers_transaction_raw' INTO TABLE customers_transaction_raw_tbl;\n",
    "\"\"\")"
   ]
  },
  {
   "cell_type": "code",
   "execution_count": 70,
   "id": "d7302d6a-748c-45e1-82b4-76c95c7b43ab",
   "metadata": {},
   "outputs": [
    {
     "name": "stdout",
     "output_type": "stream",
     "text": [
      "+---------------+---------+-------+\n",
      "|       col_name|data_type|comment|\n",
      "+---------------+---------+-------+\n",
      "|     CustomerID|      int|   NULL|\n",
      "|           Name|   string|   NULL|\n",
      "|          Email|   string|   NULL|\n",
      "|TransactionDate|   string|   NULL|\n",
      "|         Amount|   string|   NULL|\n",
      "|       Currency|   string|   NULL|\n",
      "|       Location|   string|   NULL|\n",
      "|        Address|   string|   NULL|\n",
      "|      ProductID|   string|   NULL|\n",
      "|        Remarks|   string|   NULL|\n",
      "+---------------+---------+-------+\n",
      "\n"
     ]
    }
   ],
   "source": [
    "spark.sql(\"describe table customers_transaction_raw_tbl\").show()"
   ]
  },
  {
   "cell_type": "code",
   "execution_count": 107,
   "id": "53539d24-ae45-4728-a5ae-ac9440d87150",
   "metadata": {},
   "outputs": [],
   "source": [
    "df = spark.sql(\"SELECT * FROM customers_transaction_raw_tbl\")"
   ]
  },
  {
   "cell_type": "code",
   "execution_count": 108,
   "id": "1d5986cf-6d58-4174-8191-9c5c6f0d5963",
   "metadata": {},
   "outputs": [
    {
     "name": "stdout",
     "output_type": "stream",
     "text": [
      "root\n",
      " |-- CustomerID: integer (nullable = true)\n",
      " |-- Name: string (nullable = true)\n",
      " |-- Email: string (nullable = true)\n",
      " |-- TransactionDate: string (nullable = true)\n",
      " |-- Amount: string (nullable = true)\n",
      " |-- Currency: string (nullable = true)\n",
      " |-- Location: string (nullable = true)\n",
      " |-- Address: string (nullable = true)\n",
      " |-- ProductID: string (nullable = true)\n",
      " |-- Remarks: string (nullable = true)\n",
      "\n"
     ]
    }
   ],
   "source": [
    "df.printSchema()"
   ]
  },
  {
   "cell_type": "code",
   "execution_count": 76,
   "id": "107370b2-8a0b-4f51-8ca8-0780f56dca7d",
   "metadata": {},
   "outputs": [
    {
     "name": "stdout",
     "output_type": "stream",
     "text": [
      "+----------+------------+--------------------+---------------+-------+--------+-------------+-------------------+---------+---------+\n",
      "|CustomerID|        Name|               Email|TransactionDate| Amount|Currency|     Location|            Address|ProductID|  Remarks|\n",
      "+----------+------------+--------------------+---------------+-------+--------+-------------+-------------------+---------+---------+\n",
      "|      1001|    JOHN DOE|    john.doe@xyz.com|     2023/04/12|$120.50|     USD|     New York|123 Baker St,NY,USA|     P123|     NULL|\n",
      "|      1002|    Jane doe|    jane.doe@xyz.com|     04-13-2023|   98.6|     usd|       Boston| 456 Elm Street, MA|     P124|delivered|\n",
      "|      1003|Robert Smith|   rob.smith@xyz.com|     13-04-2023|   NULL|     USD|  Los Angeles| 789 Sunset Blvd,CA|     P125|     NULL|\n",
      "|      1004|Mary Johnson|                NULL|     2023-04-15|$205.00|     USD|      Chicago|  321 Pine, IL, USA|     P123| refunded|\n",
      "|      1002|    Jane doe|    jane.doe@xyz.com|     04-13-2023|   98.6|     usd|       Boston| 456 Elm Street, MA|     P124|delivered|\n",
      "|      1005|       Alice|alice.williams@xy...|     2023/04/16| 300.25|     USD|       Boston|        404 5th Ave|     NULL|  pending|\n",
      "|      1006|        NULL|        mike@xyz.com|     2023.04.17|    NaN|     USD|       Dallas|   900 Highland, TX|     P127|     NULL|\n",
      "|      1007|   David, Jr|     davidjr@xyz.com|      2023-4-17|  85.99|     Usd|San Francisco|    12 Mission Blvd|     P128|completed|\n",
      "|      1008|   Ana María|   ana.maria@xyz.com|     17/04/2023| €99.99|     EUR|       Madrid|   Calle 12, Madrid|     P129|       OK|\n",
      "|      1009|  Léa Dubois|  lea.dubois@xyz.com|     2023/04/18| 112.10|     EUR|        Paris|45 Rue Saint, Paris|     P130|     NULL|\n",
      "+----------+------------+--------------------+---------------+-------+--------+-------------+-------------------+---------+---------+\n",
      "only showing top 10 rows\n",
      "\n"
     ]
    }
   ],
   "source": [
    "df.show(10)"
   ]
  },
  {
   "cell_type": "code",
   "execution_count": 109,
   "id": "80f22ab5-c7b3-4f2d-bd96-2a174d750c58",
   "metadata": {
    "scrolled": true
   },
   "outputs": [
    {
     "name": "stdout",
     "output_type": "stream",
     "text": [
      "+----------+---------------------+--------------------------------+---------------+--------+--------+-------------+-------------------------+---------+------------+\n",
      "|CustomerID|Name                 |Email                           |TransactionDate|Amount  |Currency|Location     |Address                  |ProductID|Remarks     |\n",
      "+----------+---------------------+--------------------------------+---------------+--------+--------+-------------+-------------------------+---------+------------+\n",
      "|1001      |JOHN DOE             |john.doe@xyz.com                |2023/04/12     |$120.50 |USD     |New York     |123 Baker St,NY,USA      |P123     |NULL        |\n",
      "|1002      |Jane doe             |jane.doe@xyz.com                |04-13-2023     |98.6    |usd     |Boston       |456 Elm Street, MA       |P124     |delivered   |\n",
      "|1003      |Robert Smith         |rob.smith@xyz.com               |13-04-2023     |NULL    |USD     |Los Angeles  |789 Sunset Blvd,CA       |P125     |NULL        |\n",
      "|1004      |Mary Johnson         |NULL                            |2023-04-15     |$205.00 |USD     |Chicago      |321 Pine, IL, USA        |P123     |refunded    |\n",
      "|1002      |Jane doe             |jane.doe@xyz.com                |04-13-2023     |98.6    |usd     |Boston       |456 Elm Street, MA       |P124     |delivered   |\n",
      "|1005      |Alice                |alice.williams@xyz.com          |2023/04/16     |300.25  |USD     |Boston       |404 5th Ave              |NULL     |pending     |\n",
      "|1006      |NULL                 |mike@xyz.com                    |2023.04.17     |NaN     |USD     |Dallas       |900 Highland, TX         |P127     |NULL        |\n",
      "|1007      |David, Jr            |davidjr@xyz.com                 |2023-4-17      |85.99   |Usd     |San Francisco|12 Mission Blvd          |P128     |completed   |\n",
      "|1008      |Ana María            |ana.maria@xyz.com               |17/04/2023     |€99.99  |EUR     |Madrid       |Calle 12, Madrid         |P129     |OK          |\n",
      "|1009      |Léa Dubois           |lea.dubois@xyz.com              |2023/04/18     |112.10  |EUR     |Paris        |45 Rue Saint, Paris      |P130     |NULL        |\n",
      "|1010      |Mark Twain           |mark.twain@example.com          |2023/04/20     |$150.00 |USD     |San Diego    |789 Ocean Dr, CA         |P131     |completed   |\n",
      "|1011      |Samantha Green       |sam.green@example.com           |20-04-2023     |250.75  |USD     |Seattle      |101 Pine St, WA          |P132     |delivered   |\n",
      "|1012      |Thomas Anderson      |thomas.anderson@example.com     |2023.04.21     |330.50  |usd     |Chicago      |202 Maple Ave, IL        |P133     |NULL        |\n",
      "|1013      |Eva Chen             |eva.chen@example.com            |21/04/2023     |499.99  |USD     |Los Angeles  |303 Hollywood Blvd, CA   |P134     |refunded    |\n",
      "|1014      |Larry Page           |larry.page@example.com          |2023-04-22     |$800.00 |USD     |Mountain View|1 Google Way, CA         |P135     |completed   |\n",
      "|1015      |Serena Williams      |serena.williams@example.com     |04/22/2023     |600.50  |USD     |Los Angeles  |11 Sports Dr, CA         |P136     |delivered   |\n",
      "|1016      |Elon Musk            |elon.musk@example.com           |22-04-2023     |$999.99 |USD     |Palo Alto    |100 SpaceX Rd, CA        |P137     |NULL        |\n",
      "|1017      |Ada Lovelace         |ada.lovelace@example.com        |2023.04.23     |75.00   |usd     |London       |15 Algorithm Ln, UK      |P138     |completed   |\n",
      "|1018      |Grace Hopper         |grace.hopper@example.com        |23/04/2023     |$120.00 |USD     |Arlington    |45 Navy Rd, VA           |P139     |delivered   |\n",
      "|1019      |Alan Turing          |alan.turing@example.com         |2023-04-23     |NaN     |USD     |Manchester   |23 Computing St, UK      |P140     |NULL        |\n",
      "|1020      |Nikola Tesla         |nikola.tesla@example.com        |23.04.2023     |$450.00 |usd     |New York     |67 Electric Ave, NY      |P141     |refunded    |\n",
      "|1021      |Marie Curie          |marie.curie@example.com         |24/04/2023     |350.00  |USD     |Paris        |89 Science Rd, France    |P142     |completed   |\n",
      "|1022      |Isaac Newton         |isaac.newton@example.com        |2023/04/24     |$675.25 |USD     |London       |34 Gravity St, UK        |P143     |NULL        |\n",
      "|1023      |Stephen Hawking      |stephen.hawking@example.com     |24-04-2023     |500.00  |USD     |Cambridge    |77 Universe Blvd, UK     |P144     |delivered   |\n",
      "|1024      |Galileo Galilei      |galileo.galilei@example.com     |2023-04-25     |$300.00 |usd     |Pisa         |12 Telescope Ln, Italy   |P145     |NULL        |\n",
      "|1025      |Aristotle            |aristotle@example.com           |25/04/2023     |200.50  |USD     |Athens       |101 Philosophy Sq, Greece|P146     |refunded    |\n",
      "|1026      |Socrates             |socrates@example.com            |2023-04-26     |NaN     |USD     |Athens       |202 Agora, Greece        |P147     |missing data|\n",
      "|1027      |Plato                |plato@example.com               |26.04.2023     |$400.99 |USD     |Athens       |303 Academy Rd, Greece   |P148     |NULL        |\n",
      "|1028      |Confucius            |confucius@example.com           |2023/04/27     |180.75  |USD     |Beijing      |9 Wisdom Way, China      |P149     |completed   |\n",
      "|1029      |Socrates             |socrates@example.com            |04-27-2023     |NaN     |USD     |Athens       |202 Agora, Greece        |P147     |duplicate   |\n",
      "|1030      |Sun Tzu              |sun.tzu@example.com             |27/04/2023     |220.00  |USD     |Beijing      |66 Strategy St, China    |P150     |delivered   |\n",
      "|1031      |Mahatma Gandhi       |mahatma.gandhi@example.com      |2023.04.28     |$150.00 |usd     |New Delhi    |77 Peace Rd, India       |P151     |completed   |\n",
      "|1032      |Benazir Bhutto       |benazir.bhutto@example.com      |28/04/2023     |80.50   |USD     |Karachi      |88 Freedom Ln, Pakistan  |P152     |returned    |\n",
      "|1033      |Indira Gandhi        |indira.gandhi@example.com       |2023/04/28     |$220.30 |USD     |New Delhi    |99 Leadership Dr, India  |P153     |delivered   |\n",
      "|1034      |Jawaharlal Nehru     |nehru@example.com               |28-04-2023     |510.00  |USD     |Allahabad    |100 Vision St, India     |P154     |NULL        |\n",
      "|1035      |Mother Teresa        |mother.teresa@example.com       |2023-04-29     |$75.75  |USD     |Kolkata      |12 Compassion Rd, India  |P155     |completed   |\n",
      "|1036      |Ronald Reagan        |ronald.reagan@example.com       |29/04/2023     |430.00  |usd     |Los Angeles  |13 Hollywood Blvd, CA    |P156     |refunded    |\n",
      "|1037      |Winston Churchill    |winston.churchill@example.com   |2023.04.30     |$95.50  |USD     |London       |14 Victory Ln, UK        |P157     |NULL        |\n",
      "|1038      |Franklin Roosevelt   |franklin.roosevelt@example.com  |30/04/2023     |350.00  |USD     |New York     |15 Presidential Rd, NY   |P158     |completed   |\n",
      "|1039      |Benjamin Franklin    |ben.franklin@example.com        |2023-04-30     |270.00  |USD     |Philadelphia |16 Liberty St, PA        |P159     |delivered   |\n",
      "|1040      |George Washington    |george.washington@example.com   |2023/05/01     |$1000.00|USD     |Mount Vernon |1 Independence Hall, VA  |P160     |completed   |\n",
      "|1041      |Thomas Jefferson     |thomas.jefferson@example.com    |01-05-2023     |$850.00 |USD     |Washington   |2 Democracy Blvd, DC     |P161     |returned    |\n",
      "|1042      |John Adams           |john.adams@example.com          |2023.05.01     |920.50  |usd     |Boston       |3 Freedom Rd, MA         |P162     |NULL        |\n",
      "|1043      |James Madison        |james.madison@example.com       |01/05/2023     |$330.75 |USD     |Montpelier   |4 Constitution Ave, VA   |P163     |completed   |\n",
      "|1044      |Alexander Hamilton   |alex.hamilton@example.com       |2023/05/02     |$1150.00|USD     |New York     |5 Finance St, NY         |P164     |delivered   |\n",
      "|1045      |Andrew Jackson       |andrew.jackson@example.com      |02-05-2023     |780.00  |USD     |Jacksonville |6 Southern Rd, FL        |P165     |NULL        |\n",
      "|1046      |Ulysses S. Grant     |ulysses.grant@example.com       |2023.05.02     |660.00  |usd     |Chicago      |7 War St, IL             |P166     |refunded    |\n",
      "|1047      |Theodore Roosevelt   |theodore.roosevelt@example.com  |02/05/2023     |$540.00 |USD     |New York     |8 Rough Rider Rd, NY     |P167     |completed   |\n",
      "|1048      |Woodrow Wilson       |woodrow.wilson@example.com      |2023/05/03     |470.50  |USD     |Washington   |9 Progressive Pl, DC     |P168     |NULL        |\n",
      "|1049      |Franklin D. Roosevelt|franklin.d.roosevelt@example.com|03-05-2023     |$630.00 |USD     |Hyde Park    |10 Courthouse Rd, NY     |P169     |delivered   |\n",
      "+----------+---------------------+--------------------------------+---------------+--------+--------+-------------+-------------------------+---------+------------+\n",
      "\n"
     ]
    }
   ],
   "source": [
    "from pyspark.sql.functions import regexp_replace, col, isnan, length, upper\n",
    "from pyspark.sql.types import DecimalType\n",
    "\n",
    "bad_records_df = df.filter(\n",
    "    (col(\"CustomerID\").cast(\"int\").isNull()) |\n",
    "\n",
    "    (col(\"Name\").isNull() | (col(\"Name\") != upper(col(\"Name\")))) |\n",
    "\n",
    "    (col(\"Email\").isNull() | ~col(\"Email\").rlike(r\"^[A-Za-z0-9._%+-]+@[A-Za-z0-9.-]+\\.[A-Za-z]{2,}$\")) |\n",
    "\n",
    "    (col(\"TransactionDate\").isNull() | ~col(\"TransactionDate\").rlike(r\"^(0[1-9]|1[0-2])-(0[1-9]|[12]\\d|3[01])-\\d{4}$\")) |\n",
    "\n",
    "    (col(\"Amount\").isNull() | ~col(\"Amount\").cast(\"string\").rlike(r\"^\\$?\\d+\\.\\d{2}$\")) |\n",
    "\n",
    "    (col(\"Currency\").isNull() | (col(\"Currency\") != upper(col(\"Currency\")))) |\n",
    "\n",
    "    (col(\"Location\").isNull() | ~col(\"Location\").rlike(r\"^([A-Z][a-z]+)(\\s[A-Z][a-z]+)*$\")) |\n",
    "\n",
    "    (col(\"Address\").isNull()) |\n",
    "\n",
    "    (col(\"ProductID\").isNull() | ~col(\"ProductID\").rlike(r\"^P\\d{3,}$\")) |\n",
    "\n",
    "    (col(\"Remarks\").isNull() | (col(\"Remarks\") != upper(col(\"Remarks\"))))\n",
    ")\n",
    "\n",
    "bad_records_df.show(n=50, truncate=False)"
   ]
  },
  {
   "cell_type": "code",
   "execution_count": 110,
   "id": "c764d723-01cc-42e3-8286-bab9f1d92c4e",
   "metadata": {
    "scrolled": true
   },
   "outputs": [
    {
     "name": "stdout",
     "output_type": "stream",
     "text": [
      "+----------+------------------+------------------------------+---------------+------+--------+-------------+-------------------------+---------+------------+\n",
      "|CustomerID|Name              |Email                         |TransactionDate|Amount|Currency|Location     |Address                  |ProductID|Remarks     |\n",
      "+----------+------------------+------------------------------+---------------+------+--------+-------------+-------------------------+---------+------------+\n",
      "|1001      |JOHN DOE          |john.doe@xyz.com              |2023-04-12     |120.50|USD     |New York     |123 Baker St,NY,USA      |P123     |NULL        |\n",
      "|1002      |JANE DOE          |jane.doe@xyz.com              |04-13-2023     |98.60 |USD     |Boston       |456 Elm Street, MA       |P124     |DELIVERED   |\n",
      "|1003      |ROBERT SMITH      |rob.smith@xyz.com             |13-04-2023     |NULL  |USD     |Los Angeles  |789 Sunset Blvd,CA       |P125     |NULL        |\n",
      "|1004      |MARY JOHNSON      |NULL                          |2023-04-15     |205.00|USD     |Chicago      |321 Pine, IL, USA        |P123     |REFUNDED    |\n",
      "|1002      |JANE DOE          |jane.doe@xyz.com              |04-13-2023     |98.60 |USD     |Boston       |456 Elm Street, MA       |P124     |DELIVERED   |\n",
      "|1005      |ALICE             |alice.williams@xyz.com        |2023-04-16     |300.25|USD     |Boston       |404 5th Ave              |NULL     |PENDING     |\n",
      "|1006      |NULL              |mike@xyz.com                  |2023-04-17     |NULL  |USD     |Dallas       |900 Highland, TX         |P127     |NULL        |\n",
      "|1007      |DAVID, JR         |davidjr@xyz.com               |2023-4-17      |85.99 |USD     |San Francisco|12 Mission Blvd          |P128     |COMPLETED   |\n",
      "|1008      |ANA MARÍA         |ana.maria@xyz.com             |17-04-2023     |99.99 |EUR     |Madrid       |Calle 12, Madrid         |P129     |OK          |\n",
      "|1009      |LÉA DUBOIS        |lea.dubois@xyz.com            |2023-04-18     |112.10|EUR     |Paris        |45 Rue Saint, Paris      |P130     |NULL        |\n",
      "|1010      |MARK TWAIN        |mark.twain@example.com        |2023-04-20     |150.00|USD     |San Diego    |789 Ocean Dr, CA         |P131     |COMPLETED   |\n",
      "|1011      |SAMANTHA GREEN    |sam.green@example.com         |20-04-2023     |250.75|USD     |Seattle      |101 Pine St, WA          |P132     |DELIVERED   |\n",
      "|1012      |THOMAS ANDERSON   |thomas.anderson@example.com   |2023-04-21     |330.50|USD     |Chicago      |202 Maple Ave, IL        |P133     |NULL        |\n",
      "|1013      |EVA CHEN          |eva.chen@example.com          |21-04-2023     |499.99|USD     |Los Angeles  |303 Hollywood Blvd, CA   |P134     |REFUNDED    |\n",
      "|1014      |LARRY PAGE        |larry.page@example.com        |2023-04-22     |800.00|USD     |Mountain View|1 Google Way, CA         |P135     |COMPLETED   |\n",
      "|1015      |SERENA WILLIAMS   |serena.williams@example.com   |04-22-2023     |600.50|USD     |Los Angeles  |11 Sports Dr, CA         |P136     |DELIVERED   |\n",
      "|1016      |ELON MUSK         |elon.musk@example.com         |22-04-2023     |999.99|USD     |Palo Alto    |100 SpaceX Rd, CA        |P137     |NULL        |\n",
      "|1017      |ADA LOVELACE      |ada.lovelace@example.com      |2023-04-23     |75.00 |USD     |London       |15 Algorithm Ln, UK      |P138     |COMPLETED   |\n",
      "|1018      |GRACE HOPPER      |grace.hopper@example.com      |23-04-2023     |120.00|USD     |Arlington    |45 Navy Rd, VA           |P139     |DELIVERED   |\n",
      "|1019      |ALAN TURING       |alan.turing@example.com       |2023-04-23     |NULL  |USD     |Manchester   |23 Computing St, UK      |P140     |NULL        |\n",
      "|1020      |NIKOLA TESLA      |nikola.tesla@example.com      |23-04-2023     |450.00|USD     |New York     |67 Electric Ave, NY      |P141     |REFUNDED    |\n",
      "|1021      |MARIE CURIE       |marie.curie@example.com       |24-04-2023     |350.00|USD     |Paris        |89 Science Rd, France    |P142     |COMPLETED   |\n",
      "|1022      |ISAAC NEWTON      |isaac.newton@example.com      |2023-04-24     |675.25|USD     |London       |34 Gravity St, UK        |P143     |NULL        |\n",
      "|1023      |STEPHEN HAWKING   |stephen.hawking@example.com   |24-04-2023     |500.00|USD     |Cambridge    |77 Universe Blvd, UK     |P144     |DELIVERED   |\n",
      "|1024      |GALILEO GALILEI   |galileo.galilei@example.com   |2023-04-25     |300.00|USD     |Pisa         |12 Telescope Ln, Italy   |P145     |NULL        |\n",
      "|1025      |ARISTOTLE         |aristotle@example.com         |25-04-2023     |200.50|USD     |Athens       |101 Philosophy Sq, Greece|P146     |REFUNDED    |\n",
      "|1026      |SOCRATES          |socrates@example.com          |2023-04-26     |NULL  |USD     |Athens       |202 Agora, Greece        |P147     |MISSING DATA|\n",
      "|1027      |PLATO             |plato@example.com             |26-04-2023     |400.99|USD     |Athens       |303 Academy Rd, Greece   |P148     |NULL        |\n",
      "|1028      |CONFUCIUS         |confucius@example.com         |2023-04-27     |180.75|USD     |Beijing      |9 Wisdom Way, China      |P149     |COMPLETED   |\n",
      "|1029      |SOCRATES          |socrates@example.com          |04-27-2023     |NULL  |USD     |Athens       |202 Agora, Greece        |P147     |DUPLICATE   |\n",
      "|1030      |SUN TZU           |sun.tzu@example.com           |27-04-2023     |220.00|USD     |Beijing      |66 Strategy St, China    |P150     |DELIVERED   |\n",
      "|1031      |MAHATMA GANDHI    |mahatma.gandhi@example.com    |2023-04-28     |150.00|USD     |New Delhi    |77 Peace Rd, India       |P151     |COMPLETED   |\n",
      "|1032      |BENAZIR BHUTTO    |benazir.bhutto@example.com    |28-04-2023     |80.50 |USD     |Karachi      |88 Freedom Ln, Pakistan  |P152     |RETURNED    |\n",
      "|1033      |INDIRA GANDHI     |indira.gandhi@example.com     |2023-04-28     |220.30|USD     |New Delhi    |99 Leadership Dr, India  |P153     |DELIVERED   |\n",
      "|1034      |JAWAHARLAL NEHRU  |nehru@example.com             |28-04-2023     |510.00|USD     |Allahabad    |100 Vision St, India     |P154     |NULL        |\n",
      "|1035      |MOTHER TERESA     |mother.teresa@example.com     |2023-04-29     |75.75 |USD     |Kolkata      |12 Compassion Rd, India  |P155     |COMPLETED   |\n",
      "|1036      |RONALD REAGAN     |ronald.reagan@example.com     |29-04-2023     |430.00|USD     |Los Angeles  |13 Hollywood Blvd, CA    |P156     |REFUNDED    |\n",
      "|1037      |WINSTON CHURCHILL |winston.churchill@example.com |2023-04-30     |95.50 |USD     |London       |14 Victory Ln, UK        |P157     |NULL        |\n",
      "|1038      |FRANKLIN ROOSEVELT|franklin.roosevelt@example.com|30-04-2023     |350.00|USD     |New York     |15 Presidential Rd, NY   |P158     |COMPLETED   |\n",
      "|1039      |BENJAMIN FRANKLIN |ben.franklin@example.com      |2023-04-30     |270.00|USD     |Philadelphia |16 Liberty St, PA        |P159     |DELIVERED   |\n",
      "+----------+------------------+------------------------------+---------------+------+--------+-------------+-------------------------+---------+------------+\n",
      "only showing top 40 rows\n",
      "\n"
     ]
    }
   ],
   "source": [
    "from pyspark.sql.functions import col, regexp_replace, upper, trim, when, to_date\n",
    "from pyspark.sql.types import DecimalType\n",
    "\n",
    "# Step 1: Convert all string fields to trimmed and appropriate format\n",
    "df_cleaned = df \\\n",
    "    .withColumn(\"Name\", upper(trim(col(\"Name\")))) \\\n",
    "    .withColumn(\"Email\", trim(col(\"Email\"))) \\\n",
    "    .withColumn(\"Currency\", upper(trim(col(\"Currency\")))) \\\n",
    "    .withColumn(\"Remarks\", upper(trim(col(\"Remarks\")))) \\\n",
    "    .withColumn(\"Location\", regexp_replace(trim(col(\"Location\")), r\"\\s+\", \" \")) \\\n",
    "    .withColumn(\"Amount\", regexp_replace(col(\"Amount\"), r\"[^0-9.]\", \"\").cast(DecimalType(10, 2))) \\\n",
    "    .withColumn(\"TransactionDate\", regexp_replace(col(\"TransactionDate\"), r\"[./]\", \"-\"))\n",
    "\n",
    "df_cleaned.show(40, truncate=False)"
   ]
  },
  {
   "cell_type": "code",
   "execution_count": 79,
   "id": "e070546b-bfd9-433c-a0c1-376f49f66fd1",
   "metadata": {},
   "outputs": [
    {
     "name": "stdout",
     "output_type": "stream",
     "text": [
      "+----+\n",
      "|Name|\n",
      "+----+\n",
      "+----+\n",
      "\n"
     ]
    }
   ],
   "source": [
    "from pyspark.sql.functions import col, length, trim\n",
    "\n",
    "invalid_names_df = df_cleaned.filter(\n",
    "    (col(\"Name\") != trim(col(\"Name\"))) &          # Not trimmed\n",
    "    (col(\"Name\") != upper(col(\"Name\")))            # Contains lowercase letters\n",
    ")\n",
    "\n",
    "invalid_names_df.select(\"Name\").show(truncate=False)"
   ]
  },
  {
   "cell_type": "code",
   "execution_count": 10,
   "id": "5828d9f9-39fe-4863-9773-b2ec90dace7c",
   "metadata": {
    "jupyter": {
     "source_hidden": true
    }
   },
   "outputs": [],
   "source": [
    "from pyspark.sql.functions import col, when, to_date, date_format, substring\n",
    "\n",
    "# Create a new column to store the day/month prefix as an int\n",
    "df_cleaned = df_cleaned.withColumn(\"prefix_int\", col(\"TransactionDate\").substr(1, 2).cast(\"int\"))\n",
    "\n",
    "df_cleaned = df_cleaned.withColumn(\n",
    "    \"TransactionDateParsed\",\n",
    "    when(col(\"TransactionDate\").rlike(r\"^\\d{4}-\\d{1,2}-\\d{1,2}$\"), to_date(col(\"TransactionDate\"), \"yyyy-M-d\"))\n",
    "    .when(\n",
    "        col(\"TransactionDate\").rlike(r\"^\\d{1,2}-\\d{1,2}-\\d{4}$\") & (col(\"prefix_int\") <= 12),\n",
    "        to_date(col(\"TransactionDate\"), \"MM-dd-yyyy\")\n",
    "    )\n",
    "    .when(\n",
    "        col(\"TransactionDate\").rlike(r\"^\\d{1,2}-\\d{1,2}-\\d{4}$\") & (col(\"prefix_int\") > 12),\n",
    "        to_date(col(\"TransactionDate\"), \"dd-MM-yyyy\")\n",
    "    )\n",
    ")\n",
    "\n",
    "df_cleaned = df_cleaned.withColumn(\n",
    "    \"TransactionDate\", date_format(col(\"TransactionDateParsed\"), \"dd-MM-yyyy\")\n",
    ").drop(\"TransactionDateParsed\", \"prefix_int\")"
   ]
  },
  {
   "cell_type": "code",
   "execution_count": 21,
   "id": "ecd41280-c589-45c1-a745-9e953d3fa1ae",
   "metadata": {
    "collapsed": true,
    "jupyter": {
     "outputs_hidden": true
    }
   },
   "outputs": [
    {
     "name": "stdout",
     "output_type": "stream",
     "text": [
      "+----------+--------------------+--------------------+---------------+-------+--------+-------------+--------------------+---------+------------+\n",
      "|CustomerID|                Name|               Email|TransactioNdate| Amount|Currency|     Location|             Address|ProductID|     Remarks|\n",
      "+----------+--------------------+--------------------+---------------+-------+--------+-------------+--------------------+---------+------------+\n",
      "|      1001|            JOHN DOE|    john.doe@xyz.com|     12-04-2023| 120.50|     USD|     New York| 123 Baker St,NY,USA|     P123|        NULL|\n",
      "|      1002|            JANE DOE|    jane.doe@xyz.com|     13-04-2023|  98.60|     USD|       Boston|  456 Elm Street, MA|     P124|   DELIVERED|\n",
      "|      1003|        ROBERT SMITH|   rob.smith@xyz.com|     13-04-2023|   NULL|     USD|  Los Angeles|  789 Sunset Blvd,CA|     P125|        NULL|\n",
      "|      1004|        MARY JOHNSON|                NULL|     15-04-2023| 205.00|     USD|      Chicago|   321 Pine, IL, USA|     P123|    REFUNDED|\n",
      "|      1002|            JANE DOE|    jane.doe@xyz.com|     13-04-2023|  98.60|     USD|       Boston|  456 Elm Street, MA|     P124|   DELIVERED|\n",
      "|      1005|               ALICE|alice.williams@xy...|     16-04-2023| 300.25|     USD|       Boston|         404 5th Ave|     NULL|     PENDING|\n",
      "|      1006|                NULL|        mike@xyz.com|     17-04-2023|   NULL|     USD|       Dallas|    900 Highland, TX|     P127|        NULL|\n",
      "|      1007|           DAVID, JR|     davidjr@xyz.com|     17-04-2023|  85.99|     USD|San Francisco|     12 Mission Blvd|     P128|   COMPLETED|\n",
      "|      1008|           ANA MARÍA|   ana.maria@xyz.com|     17-04-2023|  99.99|     EUR|       Madrid|    Calle 12, Madrid|     P129|          OK|\n",
      "|      1009|          LÉA DUBOIS|  lea.dubois@xyz.com|     18-04-2023| 112.10|     EUR|        Paris| 45 Rue Saint, Paris|     P130|        NULL|\n",
      "|      1010|          MARK TWAIN|mark.twain@exampl...|     20-04-2023| 150.00|     USD|    San Diego|    789 Ocean Dr, CA|     P131|   COMPLETED|\n",
      "|      1011|      SAMANTHA GREEN|sam.green@example...|     20-04-2023| 250.75|     USD|      Seattle|     101 Pine St, WA|     P132|   DELIVERED|\n",
      "|      1012|     THOMAS ANDERSON|thomas.anderson@e...|     21-04-2023| 330.50|     USD|      Chicago|   202 Maple Ave, IL|     P133|        NULL|\n",
      "|      1013|            EVA CHEN|eva.chen@example.com|     21-04-2023| 499.99|     USD|  Los Angeles|303 Hollywood Blv...|     P134|    REFUNDED|\n",
      "|      1014|          LARRY PAGE|larry.page@exampl...|     22-04-2023| 800.00|     USD|Mountain View|    1 Google Way, CA|     P135|   COMPLETED|\n",
      "|      1015|     SERENA WILLIAMS|serena.williams@e...|     22-04-2023| 600.50|     USD|  Los Angeles|    11 Sports Dr, CA|     P136|   DELIVERED|\n",
      "|      1016|           ELON MUSK|elon.musk@example...|     22-04-2023| 999.99|     USD|    Palo Alto|   100 SpaceX Rd, CA|     P137|        NULL|\n",
      "|      1017|        ADA LOVELACE|ada.lovelace@exam...|     23-04-2023|  75.00|     USD|       London| 15 Algorithm Ln, UK|     P138|   COMPLETED|\n",
      "|      1018|        GRACE HOPPER|grace.hopper@exam...|     23-04-2023| 120.00|     USD|    Arlington|      45 Navy Rd, VA|     P139|   DELIVERED|\n",
      "|      1019|         ALAN TURING|alan.turing@examp...|     23-04-2023|   NULL|     USD|   Manchester| 23 Computing St, UK|     P140|        NULL|\n",
      "|      1020|        NIKOLA TESLA|nikola.tesla@exam...|     23-04-2023| 450.00|     USD|     New York| 67 Electric Ave, NY|     P141|    REFUNDED|\n",
      "|      1021|         MARIE CURIE|marie.curie@examp...|     24-04-2023| 350.00|     USD|        Paris|89 Science Rd, Fr...|     P142|   COMPLETED|\n",
      "|      1022|        ISAAC NEWTON|isaac.newton@exam...|     24-04-2023| 675.25|     USD|       London|   34 Gravity St, UK|     P143|        NULL|\n",
      "|      1023|     STEPHEN HAWKING|stephen.hawking@e...|     24-04-2023| 500.00|     USD|    Cambridge|77 Universe Blvd, UK|     P144|   DELIVERED|\n",
      "|      1024|     GALILEO GALILEI|galileo.galilei@e...|     25-04-2023| 300.00|     USD|         Pisa|12 Telescope Ln, ...|     P145|        NULL|\n",
      "|      1025|           ARISTOTLE|aristotle@example...|     25-04-2023| 200.50|     USD|       Athens|101 Philosophy Sq...|     P146|    REFUNDED|\n",
      "|      1026|            SOCRATES|socrates@example.com|     26-04-2023|   NULL|     USD|       Athens|   202 Agora, Greece|     P147|MISSING DATA|\n",
      "|      1027|               PLATO|   plato@example.com|     26-04-2023| 400.99|     USD|       Athens|303 Academy Rd, G...|     P148|        NULL|\n",
      "|      1028|           CONFUCIUS|confucius@example...|     27-04-2023| 180.75|     USD|      Beijing| 9 Wisdom Way, China|     P149|   COMPLETED|\n",
      "|      1029|            SOCRATES|socrates@example.com|     27-04-2023|   NULL|     USD|       Athens|   202 Agora, Greece|     P147|   DUPLICATE|\n",
      "|      1030|             SUN TZU| sun.tzu@example.com|     27-04-2023| 220.00|     USD|      Beijing|66 Strategy St, C...|     P150|   DELIVERED|\n",
      "|      1031|      MAHATMA GANDHI|mahatma.gandhi@ex...|     28-04-2023| 150.00|     USD|    New Delhi|  77 Peace Rd, India|     P151|   COMPLETED|\n",
      "|      1032|      BENAZIR BHUTTO|benazir.bhutto@ex...|     28-04-2023|  80.50|     USD|      Karachi|88 Freedom Ln, Pa...|     P152|    RETURNED|\n",
      "|      1033|       INDIRA GANDHI|indira.gandhi@exa...|     28-04-2023| 220.30|     USD|    New Delhi|99 Leadership Dr,...|     P153|   DELIVERED|\n",
      "|      1034|    JAWAHARLAL NEHRU|   nehru@example.com|     28-04-2023| 510.00|     USD|    Allahabad|100 Vision St, India|     P154|        NULL|\n",
      "|      1035|       MOTHER TERESA|mother.teresa@exa...|     29-04-2023|  75.75|     USD|      Kolkata|12 Compassion Rd,...|     P155|   COMPLETED|\n",
      "|      1036|       RONALD REAGAN|ronald.reagan@exa...|     29-04-2023| 430.00|     USD|  Los Angeles|13 Hollywood Blvd...|     P156|    REFUNDED|\n",
      "|      1037|   WINSTON CHURCHILL|winston.churchill...|     30-04-2023|  95.50|     USD|       London|   14 Victory Ln, UK|     P157|        NULL|\n",
      "|      1038|  FRANKLIN ROOSEVELT|franklin.roosevel...|     30-04-2023| 350.00|     USD|     New York|15 Presidential R...|     P158|   COMPLETED|\n",
      "|      1039|   BENJAMIN FRANKLIN|ben.franklin@exam...|     30-04-2023| 270.00|     USD| Philadelphia|   16 Liberty St, PA|     P159|   DELIVERED|\n",
      "|      1040|   GEORGE WASHINGTON|george.washington...|     01-05-2023|1000.00|     USD| Mount Vernon|1 Independence Ha...|     P160|   COMPLETED|\n",
      "|      1041|    THOMAS JEFFERSON|thomas.jefferson@...|     05-01-2023| 850.00|     USD|   Washington|2 Democracy Blvd, DC|     P161|    RETURNED|\n",
      "|      1042|          JOHN ADAMS|john.adams@exampl...|     01-05-2023| 920.50|     USD|       Boston|    3 Freedom Rd, MA|     P162|        NULL|\n",
      "|      1043|       JAMES MADISON|james.madison@exa...|     05-01-2023| 330.75|     USD|   Montpelier|4 Constitution Av...|     P163|   COMPLETED|\n",
      "|      1044|  ALEXANDER HAMILTON|alex.hamilton@exa...|     02-05-2023|1150.00|     USD|     New York|    5 Finance St, NY|     P164|   DELIVERED|\n",
      "|      1045|      ANDREW JACKSON|andrew.jackson@ex...|     05-02-2023| 780.00|     USD| Jacksonville|   6 Southern Rd, FL|     P165|        NULL|\n",
      "|      1046|    ULYSSES S. GRANT|ulysses.grant@exa...|     02-05-2023| 660.00|     USD|      Chicago|        7 War St, IL|     P166|    REFUNDED|\n",
      "|      1047|  THEODORE ROOSEVELT|theodore.roosevel...|     05-02-2023| 540.00|     USD|     New York|8 Rough Rider Rd, NY|     P167|   COMPLETED|\n",
      "|      1048|      WOODROW WILSON|woodrow.wilson@ex...|     03-05-2023| 470.50|     USD|   Washington|9 Progressive Pl, DC|     P168|        NULL|\n",
      "|      1049|FRANKLIN D. ROOSE...|franklin.d.roosev...|     05-03-2023| 630.00|     USD|    Hyde Park|10 Courthouse Rd, NY|     P169|   DELIVERED|\n",
      "+----------+--------------------+--------------------+---------------+-------+--------+-------------+--------------------+---------+------------+\n",
      "\n"
     ]
    }
   ],
   "source": [
    "df_cleaned.show(50, truncate = True)"
   ]
  },
  {
   "cell_type": "code",
   "execution_count": 20,
   "id": "44271125-f51a-464a-bc13-078d30240587",
   "metadata": {
    "collapsed": true,
    "jupyter": {
     "outputs_hidden": true
    },
    "scrolled": true
   },
   "outputs": [
    {
     "name": "stdout",
     "output_type": "stream",
     "text": [
      "root\n",
      " |-- CustomerID: integer (nullable = true)\n",
      " |-- Name: string (nullable = true)\n",
      " |-- Email: string (nullable = true)\n",
      " |-- TransactioNdate: string (nullable = true)\n",
      " |-- Amount: decimal(10,2) (nullable = true)\n",
      " |-- Currency: string (nullable = true)\n",
      " |-- Location: string (nullable = true)\n",
      " |-- Address: string (nullable = true)\n",
      " |-- ProductID: string (nullable = true)\n",
      " |-- Remarks: string (nullable = true)\n",
      "\n"
     ]
    }
   ],
   "source": [
    "df_cleaned.printSchema()"
   ]
  },
  {
   "cell_type": "code",
   "execution_count": 22,
   "id": "c671dbb6-2950-4f75-9187-6ae12c0c2351",
   "metadata": {
    "jupyter": {
     "source_hidden": true
    }
   },
   "outputs": [
    {
     "name": "stdout",
     "output_type": "stream",
     "text": [
      "+----------+----+-----+---------------+------+--------+--------+-------+---------+-------+\n",
      "|CustomerID|Name|Email|TransactioNdate|Amount|Currency|Location|Address|ProductID|Remarks|\n",
      "+----------+----+-----+---------------+------+--------+--------+-------+---------+-------+\n",
      "|         0|   1|    1|              0|     5|       0|       0|      0|        1|     15|\n",
      "+----------+----+-----+---------------+------+--------+--------+-------+---------+-------+\n",
      "\n"
     ]
    }
   ],
   "source": [
    "from pyspark.sql.functions import col, sum as _sum, when\n",
    "\n",
    "null_counts = df_cleaned.select([\n",
    "    _sum(when(col(c).isNull(), 1).otherwise(0)).alias(c) \n",
    "    for c in df_cleaned.columns\n",
    "])\n",
    "\n",
    "null_counts.show()"
   ]
  },
  {
   "cell_type": "code",
   "execution_count": 111,
   "id": "fb3c79b7-ce5b-48f9-80b8-54bb88371e41",
   "metadata": {},
   "outputs": [],
   "source": [
    "df_cleaned = df_cleaned.fillna({\n",
    "    \"CustomerID\": 9999,  # A fallback integer ID\n",
    "    \"Name\": \"1001\",\n",
    "    \"Email\": \"tcs@xyz.com\",\n",
    "    \"TransactionDate\": \"2023-01-01\",  # ISO format expected if it's a string\n",
    "    \"Amount\": 0.0,\n",
    "    \"Currency\": \"USD\",\n",
    "    \"Location\": \"New York\",\n",
    "    \"Address\": \"Not Provided\",\n",
    "    \"ProductID\": \"P000\",\n",
    "    \"Remarks\": \"ITEM RETURED\"\n",
    "})"
   ]
  },
  {
   "cell_type": "code",
   "execution_count": 112,
   "id": "f1b6d485-a179-4540-ae1e-ea692c13813a",
   "metadata": {},
   "outputs": [
    {
     "name": "stdout",
     "output_type": "stream",
     "text": [
      "+----------+--------------------+--------------------+---------------+-------+--------+-------------+--------------------+---------+------------+\n",
      "|CustomerID|                Name|               Email|TransactionDate| Amount|Currency|     Location|             Address|ProductID|     Remarks|\n",
      "+----------+--------------------+--------------------+---------------+-------+--------+-------------+--------------------+---------+------------+\n",
      "|      1001|            JOHN DOE|    john.doe@xyz.com|     2023-04-12| 120.50|     USD|     New York| 123 Baker St,NY,USA|     P123|ITEM RETURED|\n",
      "|      1002|            JANE DOE|    jane.doe@xyz.com|     04-13-2023|  98.60|     USD|       Boston|  456 Elm Street, MA|     P124|   DELIVERED|\n",
      "|      1003|        ROBERT SMITH|   rob.smith@xyz.com|     13-04-2023|   0.00|     USD|  Los Angeles|  789 Sunset Blvd,CA|     P125|ITEM RETURED|\n",
      "|      1004|        MARY JOHNSON|         tcs@xyz.com|     2023-04-15| 205.00|     USD|      Chicago|   321 Pine, IL, USA|     P123|    REFUNDED|\n",
      "|      1002|            JANE DOE|    jane.doe@xyz.com|     04-13-2023|  98.60|     USD|       Boston|  456 Elm Street, MA|     P124|   DELIVERED|\n",
      "|      1005|               ALICE|alice.williams@xy...|     2023-04-16| 300.25|     USD|       Boston|         404 5th Ave|     P000|     PENDING|\n",
      "|      1006|                1001|        mike@xyz.com|     2023-04-17|   0.00|     USD|       Dallas|    900 Highland, TX|     P127|ITEM RETURED|\n",
      "|      1007|           DAVID, JR|     davidjr@xyz.com|      2023-4-17|  85.99|     USD|San Francisco|     12 Mission Blvd|     P128|   COMPLETED|\n",
      "|      1008|           ANA MARÍA|   ana.maria@xyz.com|     17-04-2023|  99.99|     EUR|       Madrid|    Calle 12, Madrid|     P129|          OK|\n",
      "|      1009|          LÉA DUBOIS|  lea.dubois@xyz.com|     2023-04-18| 112.10|     EUR|        Paris| 45 Rue Saint, Paris|     P130|ITEM RETURED|\n",
      "|      1010|          MARK TWAIN|mark.twain@exampl...|     2023-04-20| 150.00|     USD|    San Diego|    789 Ocean Dr, CA|     P131|   COMPLETED|\n",
      "|      1011|      SAMANTHA GREEN|sam.green@example...|     20-04-2023| 250.75|     USD|      Seattle|     101 Pine St, WA|     P132|   DELIVERED|\n",
      "|      1012|     THOMAS ANDERSON|thomas.anderson@e...|     2023-04-21| 330.50|     USD|      Chicago|   202 Maple Ave, IL|     P133|ITEM RETURED|\n",
      "|      1013|            EVA CHEN|eva.chen@example.com|     21-04-2023| 499.99|     USD|  Los Angeles|303 Hollywood Blv...|     P134|    REFUNDED|\n",
      "|      1014|          LARRY PAGE|larry.page@exampl...|     2023-04-22| 800.00|     USD|Mountain View|    1 Google Way, CA|     P135|   COMPLETED|\n",
      "|      1015|     SERENA WILLIAMS|serena.williams@e...|     04-22-2023| 600.50|     USD|  Los Angeles|    11 Sports Dr, CA|     P136|   DELIVERED|\n",
      "|      1016|           ELON MUSK|elon.musk@example...|     22-04-2023| 999.99|     USD|    Palo Alto|   100 SpaceX Rd, CA|     P137|ITEM RETURED|\n",
      "|      1017|        ADA LOVELACE|ada.lovelace@exam...|     2023-04-23|  75.00|     USD|       London| 15 Algorithm Ln, UK|     P138|   COMPLETED|\n",
      "|      1018|        GRACE HOPPER|grace.hopper@exam...|     23-04-2023| 120.00|     USD|    Arlington|      45 Navy Rd, VA|     P139|   DELIVERED|\n",
      "|      1019|         ALAN TURING|alan.turing@examp...|     2023-04-23|   0.00|     USD|   Manchester| 23 Computing St, UK|     P140|ITEM RETURED|\n",
      "|      1020|        NIKOLA TESLA|nikola.tesla@exam...|     23-04-2023| 450.00|     USD|     New York| 67 Electric Ave, NY|     P141|    REFUNDED|\n",
      "|      1021|         MARIE CURIE|marie.curie@examp...|     24-04-2023| 350.00|     USD|        Paris|89 Science Rd, Fr...|     P142|   COMPLETED|\n",
      "|      1022|        ISAAC NEWTON|isaac.newton@exam...|     2023-04-24| 675.25|     USD|       London|   34 Gravity St, UK|     P143|ITEM RETURED|\n",
      "|      1023|     STEPHEN HAWKING|stephen.hawking@e...|     24-04-2023| 500.00|     USD|    Cambridge|77 Universe Blvd, UK|     P144|   DELIVERED|\n",
      "|      1024|     GALILEO GALILEI|galileo.galilei@e...|     2023-04-25| 300.00|     USD|         Pisa|12 Telescope Ln, ...|     P145|ITEM RETURED|\n",
      "|      1025|           ARISTOTLE|aristotle@example...|     25-04-2023| 200.50|     USD|       Athens|101 Philosophy Sq...|     P146|    REFUNDED|\n",
      "|      1026|            SOCRATES|socrates@example.com|     2023-04-26|   0.00|     USD|       Athens|   202 Agora, Greece|     P147|MISSING DATA|\n",
      "|      1027|               PLATO|   plato@example.com|     26-04-2023| 400.99|     USD|       Athens|303 Academy Rd, G...|     P148|ITEM RETURED|\n",
      "|      1028|           CONFUCIUS|confucius@example...|     2023-04-27| 180.75|     USD|      Beijing| 9 Wisdom Way, China|     P149|   COMPLETED|\n",
      "|      1029|            SOCRATES|socrates@example.com|     04-27-2023|   0.00|     USD|       Athens|   202 Agora, Greece|     P147|   DUPLICATE|\n",
      "|      1030|             SUN TZU| sun.tzu@example.com|     27-04-2023| 220.00|     USD|      Beijing|66 Strategy St, C...|     P150|   DELIVERED|\n",
      "|      1031|      MAHATMA GANDHI|mahatma.gandhi@ex...|     2023-04-28| 150.00|     USD|    New Delhi|  77 Peace Rd, India|     P151|   COMPLETED|\n",
      "|      1032|      BENAZIR BHUTTO|benazir.bhutto@ex...|     28-04-2023|  80.50|     USD|      Karachi|88 Freedom Ln, Pa...|     P152|    RETURNED|\n",
      "|      1033|       INDIRA GANDHI|indira.gandhi@exa...|     2023-04-28| 220.30|     USD|    New Delhi|99 Leadership Dr,...|     P153|   DELIVERED|\n",
      "|      1034|    JAWAHARLAL NEHRU|   nehru@example.com|     28-04-2023| 510.00|     USD|    Allahabad|100 Vision St, India|     P154|ITEM RETURED|\n",
      "|      1035|       MOTHER TERESA|mother.teresa@exa...|     2023-04-29|  75.75|     USD|      Kolkata|12 Compassion Rd,...|     P155|   COMPLETED|\n",
      "|      1036|       RONALD REAGAN|ronald.reagan@exa...|     29-04-2023| 430.00|     USD|  Los Angeles|13 Hollywood Blvd...|     P156|    REFUNDED|\n",
      "|      1037|   WINSTON CHURCHILL|winston.churchill...|     2023-04-30|  95.50|     USD|       London|   14 Victory Ln, UK|     P157|ITEM RETURED|\n",
      "|      1038|  FRANKLIN ROOSEVELT|franklin.roosevel...|     30-04-2023| 350.00|     USD|     New York|15 Presidential R...|     P158|   COMPLETED|\n",
      "|      1039|   BENJAMIN FRANKLIN|ben.franklin@exam...|     2023-04-30| 270.00|     USD| Philadelphia|   16 Liberty St, PA|     P159|   DELIVERED|\n",
      "|      1040|   GEORGE WASHINGTON|george.washington...|     2023-05-01|1000.00|     USD| Mount Vernon|1 Independence Ha...|     P160|   COMPLETED|\n",
      "|      1041|    THOMAS JEFFERSON|thomas.jefferson@...|     01-05-2023| 850.00|     USD|   Washington|2 Democracy Blvd, DC|     P161|    RETURNED|\n",
      "|      1042|          JOHN ADAMS|john.adams@exampl...|     2023-05-01| 920.50|     USD|       Boston|    3 Freedom Rd, MA|     P162|ITEM RETURED|\n",
      "|      1043|       JAMES MADISON|james.madison@exa...|     01-05-2023| 330.75|     USD|   Montpelier|4 Constitution Av...|     P163|   COMPLETED|\n",
      "|      1044|  ALEXANDER HAMILTON|alex.hamilton@exa...|     2023-05-02|1150.00|     USD|     New York|    5 Finance St, NY|     P164|   DELIVERED|\n",
      "|      1045|      ANDREW JACKSON|andrew.jackson@ex...|     02-05-2023| 780.00|     USD| Jacksonville|   6 Southern Rd, FL|     P165|ITEM RETURED|\n",
      "|      1046|    ULYSSES S. GRANT|ulysses.grant@exa...|     2023-05-02| 660.00|     USD|      Chicago|        7 War St, IL|     P166|    REFUNDED|\n",
      "|      1047|  THEODORE ROOSEVELT|theodore.roosevel...|     02-05-2023| 540.00|     USD|     New York|8 Rough Rider Rd, NY|     P167|   COMPLETED|\n",
      "|      1048|      WOODROW WILSON|woodrow.wilson@ex...|     2023-05-03| 470.50|     USD|   Washington|9 Progressive Pl, DC|     P168|ITEM RETURED|\n",
      "|      1049|FRANKLIN D. ROOSE...|franklin.d.roosev...|     03-05-2023| 630.00|     USD|    Hyde Park|10 Courthouse Rd, NY|     P169|   DELIVERED|\n",
      "+----------+--------------------+--------------------+---------------+-------+--------+-------------+--------------------+---------+------------+\n",
      "\n"
     ]
    }
   ],
   "source": [
    "df_cleaned.show(50)"
   ]
  },
  {
   "cell_type": "code",
   "execution_count": 113,
   "id": "38daa37c-2efc-468c-a5b6-ce0ea54212b3",
   "metadata": {},
   "outputs": [
    {
     "name": "stdout",
     "output_type": "stream",
     "text": [
      "+------------+\n",
      "|     Remarks|\n",
      "+------------+\n",
      "|MISSING DATA|\n",
      "|ITEM RETURED|\n",
      "|    REFUNDED|\n",
      "|    RETURNED|\n",
      "|   DUPLICATE|\n",
      "|   DELIVERED|\n",
      "|   COMPLETED|\n",
      "|     PENDING|\n",
      "|          OK|\n",
      "+------------+\n",
      "\n"
     ]
    }
   ],
   "source": [
    "df_cleaned.select(\"Remarks\").distinct().show()"
   ]
  },
  {
   "cell_type": "code",
   "execution_count": 114,
   "id": "ef873d99-7972-4a6c-8f1b-d1799b81914d",
   "metadata": {},
   "outputs": [],
   "source": [
    "from pyspark.sql.functions import when, col\n",
    "\n",
    "df_cleaned = df_cleaned.withColumn(\"Remarks\", when(col(\"Remarks\") == \"ITEM RETURED\", \"PENDING\").otherwise(col(\"Remarks\"))\n",
    ")"
   ]
  },
  {
   "cell_type": "code",
   "execution_count": 115,
   "id": "978967a2-cbe8-4859-ac81-e30b2a99c082",
   "metadata": {},
   "outputs": [
    {
     "name": "stdout",
     "output_type": "stream",
     "text": [
      "+----------+--------------------+--------------------+---------------+-------+--------+-------------+--------------------+---------+---------+\n",
      "|CustomerID|                Name|               Email|TransactionDate| Amount|Currency|     Location|             Address|ProductID|  Remarks|\n",
      "+----------+--------------------+--------------------+---------------+-------+--------+-------------+--------------------+---------+---------+\n",
      "|      1001|            JOHN DOE|    john.doe@xyz.com|     2023-04-12| 120.50|     USD|     New York| 123 Baker St,NY,USA|     P123|  PENDING|\n",
      "|      1002|            JANE DOE|    jane.doe@xyz.com|     04-13-2023|  98.60|     USD|       Boston|  456 Elm Street, MA|     P124|DELIVERED|\n",
      "|      1003|        ROBERT SMITH|   rob.smith@xyz.com|     13-04-2023|   0.00|     USD|  Los Angeles|  789 Sunset Blvd,CA|     P125|  PENDING|\n",
      "|      1004|        MARY JOHNSON|         tcs@xyz.com|     2023-04-15| 205.00|     USD|      Chicago|   321 Pine, IL, USA|     P123| REFUNDED|\n",
      "|      1002|            JANE DOE|    jane.doe@xyz.com|     04-13-2023|  98.60|     USD|       Boston|  456 Elm Street, MA|     P124|DELIVERED|\n",
      "|      1005|               ALICE|alice.williams@xy...|     2023-04-16| 300.25|     USD|       Boston|         404 5th Ave|     P000|  PENDING|\n",
      "|      1006|                1001|        mike@xyz.com|     2023-04-17|   0.00|     USD|       Dallas|    900 Highland, TX|     P127|  PENDING|\n",
      "|      1007|           DAVID, JR|     davidjr@xyz.com|      2023-4-17|  85.99|     USD|San Francisco|     12 Mission Blvd|     P128|COMPLETED|\n",
      "|      1008|           ANA MARÍA|   ana.maria@xyz.com|     17-04-2023|  99.99|     EUR|       Madrid|    Calle 12, Madrid|     P129|COMPLETED|\n",
      "|      1009|          LÉA DUBOIS|  lea.dubois@xyz.com|     2023-04-18| 112.10|     EUR|        Paris| 45 Rue Saint, Paris|     P130|  PENDING|\n",
      "|      1010|          MARK TWAIN|mark.twain@exampl...|     2023-04-20| 150.00|     USD|    San Diego|    789 Ocean Dr, CA|     P131|COMPLETED|\n",
      "|      1011|      SAMANTHA GREEN|sam.green@example...|     20-04-2023| 250.75|     USD|      Seattle|     101 Pine St, WA|     P132|DELIVERED|\n",
      "|      1012|     THOMAS ANDERSON|thomas.anderson@e...|     2023-04-21| 330.50|     USD|      Chicago|   202 Maple Ave, IL|     P133|  PENDING|\n",
      "|      1013|            EVA CHEN|eva.chen@example.com|     21-04-2023| 499.99|     USD|  Los Angeles|303 Hollywood Blv...|     P134| REFUNDED|\n",
      "|      1014|          LARRY PAGE|larry.page@exampl...|     2023-04-22| 800.00|     USD|Mountain View|    1 Google Way, CA|     P135|COMPLETED|\n",
      "|      1015|     SERENA WILLIAMS|serena.williams@e...|     04-22-2023| 600.50|     USD|  Los Angeles|    11 Sports Dr, CA|     P136|DELIVERED|\n",
      "|      1016|           ELON MUSK|elon.musk@example...|     22-04-2023| 999.99|     USD|    Palo Alto|   100 SpaceX Rd, CA|     P137|  PENDING|\n",
      "|      1017|        ADA LOVELACE|ada.lovelace@exam...|     2023-04-23|  75.00|     USD|       London| 15 Algorithm Ln, UK|     P138|COMPLETED|\n",
      "|      1018|        GRACE HOPPER|grace.hopper@exam...|     23-04-2023| 120.00|     USD|    Arlington|      45 Navy Rd, VA|     P139|DELIVERED|\n",
      "|      1019|         ALAN TURING|alan.turing@examp...|     2023-04-23|   0.00|     USD|   Manchester| 23 Computing St, UK|     P140|  PENDING|\n",
      "|      1020|        NIKOLA TESLA|nikola.tesla@exam...|     23-04-2023| 450.00|     USD|     New York| 67 Electric Ave, NY|     P141| REFUNDED|\n",
      "|      1021|         MARIE CURIE|marie.curie@examp...|     24-04-2023| 350.00|     USD|        Paris|89 Science Rd, Fr...|     P142|COMPLETED|\n",
      "|      1022|        ISAAC NEWTON|isaac.newton@exam...|     2023-04-24| 675.25|     USD|       London|   34 Gravity St, UK|     P143|  PENDING|\n",
      "|      1023|     STEPHEN HAWKING|stephen.hawking@e...|     24-04-2023| 500.00|     USD|    Cambridge|77 Universe Blvd, UK|     P144|DELIVERED|\n",
      "|      1024|     GALILEO GALILEI|galileo.galilei@e...|     2023-04-25| 300.00|     USD|         Pisa|12 Telescope Ln, ...|     P145|  PENDING|\n",
      "|      1025|           ARISTOTLE|aristotle@example...|     25-04-2023| 200.50|     USD|       Athens|101 Philosophy Sq...|     P146| REFUNDED|\n",
      "|      1026|            SOCRATES|socrates@example.com|     2023-04-26|   0.00|     USD|       Athens|   202 Agora, Greece|     P147|COMPLETED|\n",
      "|      1027|               PLATO|   plato@example.com|     26-04-2023| 400.99|     USD|       Athens|303 Academy Rd, G...|     P148|  PENDING|\n",
      "|      1028|           CONFUCIUS|confucius@example...|     2023-04-27| 180.75|     USD|      Beijing| 9 Wisdom Way, China|     P149|COMPLETED|\n",
      "|      1029|            SOCRATES|socrates@example.com|     04-27-2023|   0.00|     USD|       Athens|   202 Agora, Greece|     P147|COMPLETED|\n",
      "|      1030|             SUN TZU| sun.tzu@example.com|     27-04-2023| 220.00|     USD|      Beijing|66 Strategy St, C...|     P150|DELIVERED|\n",
      "|      1031|      MAHATMA GANDHI|mahatma.gandhi@ex...|     2023-04-28| 150.00|     USD|    New Delhi|  77 Peace Rd, India|     P151|COMPLETED|\n",
      "|      1032|      BENAZIR BHUTTO|benazir.bhutto@ex...|     28-04-2023|  80.50|     USD|      Karachi|88 Freedom Ln, Pa...|     P152| RETURNED|\n",
      "|      1033|       INDIRA GANDHI|indira.gandhi@exa...|     2023-04-28| 220.30|     USD|    New Delhi|99 Leadership Dr,...|     P153|DELIVERED|\n",
      "|      1034|    JAWAHARLAL NEHRU|   nehru@example.com|     28-04-2023| 510.00|     USD|    Allahabad|100 Vision St, India|     P154|  PENDING|\n",
      "|      1035|       MOTHER TERESA|mother.teresa@exa...|     2023-04-29|  75.75|     USD|      Kolkata|12 Compassion Rd,...|     P155|COMPLETED|\n",
      "|      1036|       RONALD REAGAN|ronald.reagan@exa...|     29-04-2023| 430.00|     USD|  Los Angeles|13 Hollywood Blvd...|     P156| REFUNDED|\n",
      "|      1037|   WINSTON CHURCHILL|winston.churchill...|     2023-04-30|  95.50|     USD|       London|   14 Victory Ln, UK|     P157|  PENDING|\n",
      "|      1038|  FRANKLIN ROOSEVELT|franklin.roosevel...|     30-04-2023| 350.00|     USD|     New York|15 Presidential R...|     P158|COMPLETED|\n",
      "|      1039|   BENJAMIN FRANKLIN|ben.franklin@exam...|     2023-04-30| 270.00|     USD| Philadelphia|   16 Liberty St, PA|     P159|DELIVERED|\n",
      "|      1040|   GEORGE WASHINGTON|george.washington...|     2023-05-01|1000.00|     USD| Mount Vernon|1 Independence Ha...|     P160|COMPLETED|\n",
      "|      1041|    THOMAS JEFFERSON|thomas.jefferson@...|     01-05-2023| 850.00|     USD|   Washington|2 Democracy Blvd, DC|     P161| RETURNED|\n",
      "|      1042|          JOHN ADAMS|john.adams@exampl...|     2023-05-01| 920.50|     USD|       Boston|    3 Freedom Rd, MA|     P162|  PENDING|\n",
      "|      1043|       JAMES MADISON|james.madison@exa...|     01-05-2023| 330.75|     USD|   Montpelier|4 Constitution Av...|     P163|COMPLETED|\n",
      "|      1044|  ALEXANDER HAMILTON|alex.hamilton@exa...|     2023-05-02|1150.00|     USD|     New York|    5 Finance St, NY|     P164|DELIVERED|\n",
      "|      1045|      ANDREW JACKSON|andrew.jackson@ex...|     02-05-2023| 780.00|     USD| Jacksonville|   6 Southern Rd, FL|     P165|  PENDING|\n",
      "|      1046|    ULYSSES S. GRANT|ulysses.grant@exa...|     2023-05-02| 660.00|     USD|      Chicago|        7 War St, IL|     P166| REFUNDED|\n",
      "|      1047|  THEODORE ROOSEVELT|theodore.roosevel...|     02-05-2023| 540.00|     USD|     New York|8 Rough Rider Rd, NY|     P167|COMPLETED|\n",
      "|      1048|      WOODROW WILSON|woodrow.wilson@ex...|     2023-05-03| 470.50|     USD|   Washington|9 Progressive Pl, DC|     P168|  PENDING|\n",
      "|      1049|FRANKLIN D. ROOSE...|franklin.d.roosev...|     03-05-2023| 630.00|     USD|    Hyde Park|10 Courthouse Rd, NY|     P169|DELIVERED|\n",
      "+----------+--------------------+--------------------+---------------+-------+--------+-------------+--------------------+---------+---------+\n",
      "\n"
     ]
    }
   ],
   "source": [
    "from pyspark.sql.functions import col, when\n",
    "\n",
    "# Define the allowed values\n",
    "valid_values = [\"REFUNDED\", \"RETURNED\", \"DELIVERED\", \"COMPLETED\", \"PENDING\"]\n",
    "\n",
    "# Clean the Remarks column\n",
    "df_cleaned = df_cleaned.withColumn(\"Remarks\", when(col(\"Remarks\").isin(valid_values), col(\"Remarks\")).otherwise(\"COMPLETED\")\n",
    ")\n",
    "\n",
    "df_cleaned.show(50)"
   ]
  },
  {
   "cell_type": "code",
   "execution_count": null,
   "id": "6585ec0f-cf06-4eda-bc0e-5c395b76ad14",
   "metadata": {},
   "outputs": [],
   "source": [
    "\"\"\"\n",
    "- Sales peaks by month/year → via TransactionMonth, TransactionYear\n",
    "- High-value customer identification → from HighValueTransaction\n",
    "- Customer segmentation → using CustomerTier for targeted marketing\n",
    "- Fulfillment performance → via % of IsDelivered\n",
    "- Revenue risk/opportunity zones → analyze combinations of Amount and Remarks\n",
    "\"\"\"\n"
   ]
  },
  {
   "cell_type": "code",
   "execution_count": 116,
   "id": "f29e67f3-758c-4a48-81eb-6dedb92b1a03",
   "metadata": {},
   "outputs": [],
   "source": [
    "from pyspark.sql.functions import col, month, year, upper, when, lit, to_date, lpad\n",
    "from pyspark.sql.types import StringType\n",
    "\n",
    "df_cleaned = df_cleaned.withColumn(\"TransactioNdate\", to_date(col(\"TransactioNdate\"), \"dd-MM-yyyy\"))\n",
    "\n",
    "# 1. TransactionMonth - Helps analyze monthly trends\n",
    "df_cleaned = df_cleaned.withColumn(\"TransactionMonth\", lpad(month(to_date(col(\"TransactioNdate\"), \"dd-MM-yyyy\")).cast(StringType()), 2, \"0\"))\n",
    "\n",
    "# 2. TransactionYear - Helps observe year-over-year growth\n",
    "df_cleaned = df_cleaned.withColumn(\"TransactioNdate\", year(to_date(col(\"TransactioNdate\"), \"dd-MM-yyyy\")).cast(StringType()))\n",
    "\n",
    "# 3. HighValueTransaction - Flags transactions that are large (custom threshold)\n",
    "df_cleaned = df_cleaned.withColumn(\"HighValueTransaction\", when(col(\"Amount\") > 500, \"Yes\").otherwise(\"No\"))\n",
    "\n",
    "# 4. CustomerTier - Classify customers based on Amount spent\n",
    "df_cleaned = df_cleaned.withColumn(\n",
    "    \"CustomerTier\",\n",
    "    when(col(\"Amount\") >= 500, \"Platinum\")\n",
    "    .when(col(\"Amount\") >= 200, \"Gold\")\n",
    "    .when(col(\"Amount\") >= 100, \"Silver\")\n",
    "    .otherwise(\"Bronze\")\n",
    ")\n",
    "\n",
    "# 5. IsDelivered - Convert Remarks to a delivery flag for fulfillment analysis\n",
    "df_cleaned = df_cleaned.withColumn(\n",
    "    \"IsDelivered\",\n",
    "    when(upper(col(\"Remarks\")) == \"DELIVERED\", 1).otherwise(0)\n",
    ")"
   ]
  },
  {
   "cell_type": "code",
   "execution_count": 117,
   "id": "8b6ac307-097a-4aa0-9a2d-bbbd3431c794",
   "metadata": {},
   "outputs": [
    {
     "name": "stdout",
     "output_type": "stream",
     "text": [
      "+----------+--------------------+--------------------+---------------+-------+--------+-------------+--------------------+---------+---------+----------------+--------------------+------------+-----------+\n",
      "|CustomerID|                Name|               Email|TransactioNdate| Amount|Currency|     Location|             Address|ProductID|  Remarks|TransactionMonth|HighValueTransaction|CustomerTier|IsDelivered|\n",
      "+----------+--------------------+--------------------+---------------+-------+--------+-------------+--------------------+---------+---------+----------------+--------------------+------------+-----------+\n",
      "|      1001|            JOHN DOE|    john.doe@xyz.com|           NULL| 120.50|     USD|     New York| 123 Baker St,NY,USA|     P123|  PENDING|            NULL|                  No|      Silver|          0|\n",
      "|      1002|            JANE DOE|    jane.doe@xyz.com|           NULL|  98.60|     USD|       Boston|  456 Elm Street, MA|     P124|DELIVERED|            NULL|                  No|      Bronze|          1|\n",
      "|      1003|        ROBERT SMITH|   rob.smith@xyz.com|           2023|   0.00|     USD|  Los Angeles|  789 Sunset Blvd,CA|     P125|  PENDING|              04|                  No|      Bronze|          0|\n",
      "|      1004|        MARY JOHNSON|         tcs@xyz.com|           NULL| 205.00|     USD|      Chicago|   321 Pine, IL, USA|     P123| REFUNDED|            NULL|                  No|        Gold|          0|\n",
      "|      1002|            JANE DOE|    jane.doe@xyz.com|           NULL|  98.60|     USD|       Boston|  456 Elm Street, MA|     P124|DELIVERED|            NULL|                  No|      Bronze|          1|\n",
      "|      1005|               ALICE|alice.williams@xy...|           NULL| 300.25|     USD|       Boston|         404 5th Ave|     P000|  PENDING|            NULL|                  No|        Gold|          0|\n",
      "|      1006|                1001|        mike@xyz.com|           NULL|   0.00|     USD|       Dallas|    900 Highland, TX|     P127|  PENDING|            NULL|                  No|      Bronze|          0|\n",
      "|      1007|           DAVID, JR|     davidjr@xyz.com|           NULL|  85.99|     USD|San Francisco|     12 Mission Blvd|     P128|COMPLETED|            NULL|                  No|      Bronze|          0|\n",
      "|      1008|           ANA MARÍA|   ana.maria@xyz.com|           2023|  99.99|     EUR|       Madrid|    Calle 12, Madrid|     P129|COMPLETED|              04|                  No|      Bronze|          0|\n",
      "|      1009|          LÉA DUBOIS|  lea.dubois@xyz.com|           NULL| 112.10|     EUR|        Paris| 45 Rue Saint, Paris|     P130|  PENDING|            NULL|                  No|      Silver|          0|\n",
      "|      1010|          MARK TWAIN|mark.twain@exampl...|           NULL| 150.00|     USD|    San Diego|    789 Ocean Dr, CA|     P131|COMPLETED|            NULL|                  No|      Silver|          0|\n",
      "|      1011|      SAMANTHA GREEN|sam.green@example...|           2023| 250.75|     USD|      Seattle|     101 Pine St, WA|     P132|DELIVERED|              04|                  No|        Gold|          1|\n",
      "|      1012|     THOMAS ANDERSON|thomas.anderson@e...|           NULL| 330.50|     USD|      Chicago|   202 Maple Ave, IL|     P133|  PENDING|            NULL|                  No|        Gold|          0|\n",
      "|      1013|            EVA CHEN|eva.chen@example.com|           2023| 499.99|     USD|  Los Angeles|303 Hollywood Blv...|     P134| REFUNDED|              04|                  No|        Gold|          0|\n",
      "|      1014|          LARRY PAGE|larry.page@exampl...|           NULL| 800.00|     USD|Mountain View|    1 Google Way, CA|     P135|COMPLETED|            NULL|                 Yes|    Platinum|          0|\n",
      "|      1015|     SERENA WILLIAMS|serena.williams@e...|           NULL| 600.50|     USD|  Los Angeles|    11 Sports Dr, CA|     P136|DELIVERED|            NULL|                 Yes|    Platinum|          1|\n",
      "|      1016|           ELON MUSK|elon.musk@example...|           2023| 999.99|     USD|    Palo Alto|   100 SpaceX Rd, CA|     P137|  PENDING|              04|                 Yes|    Platinum|          0|\n",
      "|      1017|        ADA LOVELACE|ada.lovelace@exam...|           NULL|  75.00|     USD|       London| 15 Algorithm Ln, UK|     P138|COMPLETED|            NULL|                  No|      Bronze|          0|\n",
      "|      1018|        GRACE HOPPER|grace.hopper@exam...|           2023| 120.00|     USD|    Arlington|      45 Navy Rd, VA|     P139|DELIVERED|              04|                  No|      Silver|          1|\n",
      "|      1019|         ALAN TURING|alan.turing@examp...|           NULL|   0.00|     USD|   Manchester| 23 Computing St, UK|     P140|  PENDING|            NULL|                  No|      Bronze|          0|\n",
      "|      1020|        NIKOLA TESLA|nikola.tesla@exam...|           2023| 450.00|     USD|     New York| 67 Electric Ave, NY|     P141| REFUNDED|              04|                  No|        Gold|          0|\n",
      "|      1021|         MARIE CURIE|marie.curie@examp...|           2023| 350.00|     USD|        Paris|89 Science Rd, Fr...|     P142|COMPLETED|              04|                  No|        Gold|          0|\n",
      "|      1022|        ISAAC NEWTON|isaac.newton@exam...|           NULL| 675.25|     USD|       London|   34 Gravity St, UK|     P143|  PENDING|            NULL|                 Yes|    Platinum|          0|\n",
      "|      1023|     STEPHEN HAWKING|stephen.hawking@e...|           2023| 500.00|     USD|    Cambridge|77 Universe Blvd, UK|     P144|DELIVERED|              04|                  No|    Platinum|          1|\n",
      "|      1024|     GALILEO GALILEI|galileo.galilei@e...|           NULL| 300.00|     USD|         Pisa|12 Telescope Ln, ...|     P145|  PENDING|            NULL|                  No|        Gold|          0|\n",
      "|      1025|           ARISTOTLE|aristotle@example...|           2023| 200.50|     USD|       Athens|101 Philosophy Sq...|     P146| REFUNDED|              04|                  No|        Gold|          0|\n",
      "|      1026|            SOCRATES|socrates@example.com|           NULL|   0.00|     USD|       Athens|   202 Agora, Greece|     P147|COMPLETED|            NULL|                  No|      Bronze|          0|\n",
      "|      1027|               PLATO|   plato@example.com|           2023| 400.99|     USD|       Athens|303 Academy Rd, G...|     P148|  PENDING|              04|                  No|        Gold|          0|\n",
      "|      1028|           CONFUCIUS|confucius@example...|           NULL| 180.75|     USD|      Beijing| 9 Wisdom Way, China|     P149|COMPLETED|            NULL|                  No|      Silver|          0|\n",
      "|      1029|            SOCRATES|socrates@example.com|           NULL|   0.00|     USD|       Athens|   202 Agora, Greece|     P147|COMPLETED|            NULL|                  No|      Bronze|          0|\n",
      "|      1030|             SUN TZU| sun.tzu@example.com|           2023| 220.00|     USD|      Beijing|66 Strategy St, C...|     P150|DELIVERED|              04|                  No|        Gold|          1|\n",
      "|      1031|      MAHATMA GANDHI|mahatma.gandhi@ex...|           NULL| 150.00|     USD|    New Delhi|  77 Peace Rd, India|     P151|COMPLETED|            NULL|                  No|      Silver|          0|\n",
      "|      1032|      BENAZIR BHUTTO|benazir.bhutto@ex...|           2023|  80.50|     USD|      Karachi|88 Freedom Ln, Pa...|     P152| RETURNED|              04|                  No|      Bronze|          0|\n",
      "|      1033|       INDIRA GANDHI|indira.gandhi@exa...|           NULL| 220.30|     USD|    New Delhi|99 Leadership Dr,...|     P153|DELIVERED|            NULL|                  No|        Gold|          1|\n",
      "|      1034|    JAWAHARLAL NEHRU|   nehru@example.com|           2023| 510.00|     USD|    Allahabad|100 Vision St, India|     P154|  PENDING|              04|                 Yes|    Platinum|          0|\n",
      "|      1035|       MOTHER TERESA|mother.teresa@exa...|           NULL|  75.75|     USD|      Kolkata|12 Compassion Rd,...|     P155|COMPLETED|            NULL|                  No|      Bronze|          0|\n",
      "|      1036|       RONALD REAGAN|ronald.reagan@exa...|           2023| 430.00|     USD|  Los Angeles|13 Hollywood Blvd...|     P156| REFUNDED|              04|                  No|        Gold|          0|\n",
      "|      1037|   WINSTON CHURCHILL|winston.churchill...|           NULL|  95.50|     USD|       London|   14 Victory Ln, UK|     P157|  PENDING|            NULL|                  No|      Bronze|          0|\n",
      "|      1038|  FRANKLIN ROOSEVELT|franklin.roosevel...|           2023| 350.00|     USD|     New York|15 Presidential R...|     P158|COMPLETED|              04|                  No|        Gold|          0|\n",
      "|      1039|   BENJAMIN FRANKLIN|ben.franklin@exam...|           NULL| 270.00|     USD| Philadelphia|   16 Liberty St, PA|     P159|DELIVERED|            NULL|                  No|        Gold|          1|\n",
      "|      1040|   GEORGE WASHINGTON|george.washington...|           NULL|1000.00|     USD| Mount Vernon|1 Independence Ha...|     P160|COMPLETED|            NULL|                 Yes|    Platinum|          0|\n",
      "|      1041|    THOMAS JEFFERSON|thomas.jefferson@...|           2023| 850.00|     USD|   Washington|2 Democracy Blvd, DC|     P161| RETURNED|              05|                 Yes|    Platinum|          0|\n",
      "|      1042|          JOHN ADAMS|john.adams@exampl...|           NULL| 920.50|     USD|       Boston|    3 Freedom Rd, MA|     P162|  PENDING|            NULL|                 Yes|    Platinum|          0|\n",
      "|      1043|       JAMES MADISON|james.madison@exa...|           2023| 330.75|     USD|   Montpelier|4 Constitution Av...|     P163|COMPLETED|              05|                  No|        Gold|          0|\n",
      "|      1044|  ALEXANDER HAMILTON|alex.hamilton@exa...|           NULL|1150.00|     USD|     New York|    5 Finance St, NY|     P164|DELIVERED|            NULL|                 Yes|    Platinum|          1|\n",
      "|      1045|      ANDREW JACKSON|andrew.jackson@ex...|           2023| 780.00|     USD| Jacksonville|   6 Southern Rd, FL|     P165|  PENDING|              05|                 Yes|    Platinum|          0|\n",
      "|      1046|    ULYSSES S. GRANT|ulysses.grant@exa...|           NULL| 660.00|     USD|      Chicago|        7 War St, IL|     P166| REFUNDED|            NULL|                 Yes|    Platinum|          0|\n",
      "|      1047|  THEODORE ROOSEVELT|theodore.roosevel...|           2023| 540.00|     USD|     New York|8 Rough Rider Rd, NY|     P167|COMPLETED|              05|                 Yes|    Platinum|          0|\n",
      "|      1048|      WOODROW WILSON|woodrow.wilson@ex...|           NULL| 470.50|     USD|   Washington|9 Progressive Pl, DC|     P168|  PENDING|            NULL|                  No|        Gold|          0|\n",
      "|      1049|FRANKLIN D. ROOSE...|franklin.d.roosev...|           2023| 630.00|     USD|    Hyde Park|10 Courthouse Rd, NY|     P169|DELIVERED|              05|                 Yes|    Platinum|          1|\n",
      "+----------+--------------------+--------------------+---------------+-------+--------+-------------+--------------------+---------+---------+----------------+--------------------+------------+-----------+\n",
      "\n"
     ]
    }
   ],
   "source": [
    "df_cleaned.show(50, truncate = True)"
   ]
  },
  {
   "cell_type": "code",
   "execution_count": 87,
   "id": "6d546b50-7a2b-47ba-8ec3-09c4da901638",
   "metadata": {
    "scrolled": true
   },
   "outputs": [
    {
     "name": "stdout",
     "output_type": "stream",
     "text": [
      "root\n",
      " |-- CustomerID: integer (nullable = false)\n",
      " |-- Name: string (nullable = false)\n",
      " |-- Email: string (nullable = false)\n",
      " |-- TransactioNdate: string (nullable = true)\n",
      " |-- Amount: decimal(10,2) (nullable = true)\n",
      " |-- Currency: string (nullable = false)\n",
      " |-- Location: string (nullable = false)\n",
      " |-- Address: string (nullable = false)\n",
      " |-- ProductID: string (nullable = false)\n",
      " |-- Remarks: string (nullable = false)\n",
      " |-- TransactionMonth: string (nullable = true)\n",
      " |-- HighValueTransaction: string (nullable = false)\n",
      " |-- CustomerTier: string (nullable = false)\n",
      " |-- IsDelivered: integer (nullable = false)\n",
      "\n"
     ]
    }
   ],
   "source": [
    "df_cleaned.printSchema()"
   ]
  },
  {
   "cell_type": "code",
   "execution_count": 47,
   "id": "abb81919-1b67-411b-887e-cf0a87672f8f",
   "metadata": {},
   "outputs": [
    {
     "name": "stdout",
     "output_type": "stream",
     "text": [
      "Data successfully loaded into the staging table: customers_transaction_stg_tbl\n"
     ]
    }
   ],
   "source": [
    "spark.sql('''\n",
    "\n",
    "CREATE EXTERNAL TABLE customers_transaction_stg_tbl (\n",
    "    CustomerID INT,\n",
    "    Name STRING,\n",
    "    Email STRING,\n",
    "    TransactionDate STRING,\n",
    "    Amount DECIMAL(10,2),\n",
    "    Currency STRING,\n",
    "    Location STRING,\n",
    "    Address STRING,\n",
    "    ProductID STRING,\n",
    "    Remarks STRING,\n",
    "    TransactionMonth STRING,\n",
    "    HighValueTransaction STRING,\n",
    "    CustomerTier STRING,\n",
    "    IsDelivered INT\n",
    ")\n",
    "STORED AS PARQUET\n",
    "LOCATION 'hdfs://localhost:9000/stg_tbls/';\n",
    "''')\n",
    "\n",
    "# Save DataFrame to Hive table\n",
    "\n",
    "df_cleaned.write.mode(\"overwrite\").format(\"parquet\").save(\"hdfs://localhost:9000/stg_tbls/\")\n",
    "\n",
    "# Print confirmation\n",
    "print(\"Data successfully loaded into the staging table: customers_transaction_stg_tbl\")\n"
   ]
  },
  {
   "cell_type": "code",
   "execution_count": 48,
   "id": "20e84d81-c291-4849-aa76-da774ac1efeb",
   "metadata": {},
   "outputs": [
    {
     "name": "stdout",
     "output_type": "stream",
     "text": [
      "+--------+\n",
      "|count(1)|\n",
      "+--------+\n",
      "|      50|\n",
      "+--------+\n",
      "\n"
     ]
    }
   ],
   "source": [
    "spark.sql(\"SELECT COUNT(*) FROM customers_transaction_stg_tbl\").show()"
   ]
  },
  {
   "cell_type": "code",
   "execution_count": 118,
   "id": "ef6fbe81-528d-4693-a2b2-bec856a93e77",
   "metadata": {
    "scrolled": true
   },
   "outputs": [
    {
     "name": "stdout",
     "output_type": "stream",
     "text": [
      "+----------+--------------------+--------------------+---------------+-------+--------+-------------+--------------------+---------+---------+----------------+--------------------+------------+-----------+\n",
      "|CustomerID|                Name|               Email|TransactionDate| Amount|Currency|     Location|             Address|ProductID|  Remarks|TransactionMonth|HighValueTransaction|CustomerTier|IsDelivered|\n",
      "+----------+--------------------+--------------------+---------------+-------+--------+-------------+--------------------+---------+---------+----------------+--------------------+------------+-----------+\n",
      "|      1001|            JOHN DOE|    john.doe@xyz.com|           2023| 120.50|     USD|     New York| 123 Baker St,NY,USA|     P123|  PENDING|              04|                  No|      Silver|          0|\n",
      "|      1002|            JANE DOE|    jane.doe@xyz.com|           2023|  98.60|     USD|       Boston|  456 Elm Street, MA|     P124|DELIVERED|              04|                  No|      Bronze|          1|\n",
      "|      1003|        ROBERT SMITH|   rob.smith@xyz.com|           2023|   0.00|     USD|  Los Angeles|  789 Sunset Blvd,CA|     P125|  PENDING|              04|                  No|      Bronze|          0|\n",
      "|      1004|        MARY JOHNSON|         tcs@xyz.com|           2023| 205.00|     USD|      Chicago|   321 Pine, IL, USA|     P123| REFUNDED|              04|                  No|        Gold|          0|\n",
      "|      1002|            JANE DOE|    jane.doe@xyz.com|           2023|  98.60|     USD|       Boston|  456 Elm Street, MA|     P124|DELIVERED|              04|                  No|      Bronze|          1|\n",
      "|      1005|               ALICE|alice.williams@xy...|           2023| 300.25|     USD|       Boston|         404 5th Ave|     P000|  PENDING|              04|                  No|        Gold|          0|\n",
      "|      1006|                1001|        mike@xyz.com|           2023|   0.00|     USD|       Dallas|    900 Highland, TX|     P127|  PENDING|              04|                  No|      Bronze|          0|\n",
      "|      1007|           DAVID, JR|     davidjr@xyz.com|           2023|  85.99|     USD|San Francisco|     12 Mission Blvd|     P128|COMPLETED|              04|                  No|      Bronze|          0|\n",
      "|      1008|           ANA MARÍA|   ana.maria@xyz.com|           2023|  99.99|     EUR|       Madrid|    Calle 12, Madrid|     P129|COMPLETED|              04|                  No|      Bronze|          0|\n",
      "|      1009|          LÉA DUBOIS|  lea.dubois@xyz.com|           2023| 112.10|     EUR|        Paris| 45 Rue Saint, Paris|     P130|  PENDING|              04|                  No|      Silver|          0|\n",
      "|      1010|          MARK TWAIN|mark.twain@exampl...|           2023| 150.00|     USD|    San Diego|    789 Ocean Dr, CA|     P131|COMPLETED|              04|                  No|      Silver|          0|\n",
      "|      1011|      SAMANTHA GREEN|sam.green@example...|           2023| 250.75|     USD|      Seattle|     101 Pine St, WA|     P132|DELIVERED|              04|                  No|        Gold|          1|\n",
      "|      1012|     THOMAS ANDERSON|thomas.anderson@e...|           2023| 330.50|     USD|      Chicago|   202 Maple Ave, IL|     P133|  PENDING|              04|                  No|        Gold|          0|\n",
      "|      1013|            EVA CHEN|eva.chen@example.com|           2023| 499.99|     USD|  Los Angeles|303 Hollywood Blv...|     P134| REFUNDED|              04|                  No|        Gold|          0|\n",
      "|      1014|          LARRY PAGE|larry.page@exampl...|           2023| 800.00|     USD|Mountain View|    1 Google Way, CA|     P135|COMPLETED|              04|                 Yes|    Platinum|          0|\n",
      "|      1015|     SERENA WILLIAMS|serena.williams@e...|           2023| 600.50|     USD|  Los Angeles|    11 Sports Dr, CA|     P136|DELIVERED|              04|                 Yes|    Platinum|          1|\n",
      "|      1016|           ELON MUSK|elon.musk@example...|           2023| 999.99|     USD|    Palo Alto|   100 SpaceX Rd, CA|     P137|  PENDING|              04|                 Yes|    Platinum|          0|\n",
      "|      1017|        ADA LOVELACE|ada.lovelace@exam...|           2023|  75.00|     USD|       London| 15 Algorithm Ln, UK|     P138|COMPLETED|              04|                  No|      Bronze|          0|\n",
      "|      1018|        GRACE HOPPER|grace.hopper@exam...|           2023| 120.00|     USD|    Arlington|      45 Navy Rd, VA|     P139|DELIVERED|              04|                  No|      Silver|          1|\n",
      "|      1019|         ALAN TURING|alan.turing@examp...|           2023|   0.00|     USD|   Manchester| 23 Computing St, UK|     P140|  PENDING|              04|                  No|      Bronze|          0|\n",
      "|      1020|        NIKOLA TESLA|nikola.tesla@exam...|           2023| 450.00|     USD|     New York| 67 Electric Ave, NY|     P141| REFUNDED|              04|                  No|        Gold|          0|\n",
      "|      1021|         MARIE CURIE|marie.curie@examp...|           2023| 350.00|     USD|        Paris|89 Science Rd, Fr...|     P142|COMPLETED|              04|                  No|        Gold|          0|\n",
      "|      1022|        ISAAC NEWTON|isaac.newton@exam...|           2023| 675.25|     USD|       London|   34 Gravity St, UK|     P143|  PENDING|              04|                 Yes|    Platinum|          0|\n",
      "|      1023|     STEPHEN HAWKING|stephen.hawking@e...|           2023| 500.00|     USD|    Cambridge|77 Universe Blvd, UK|     P144|DELIVERED|              04|                  No|    Platinum|          1|\n",
      "|      1024|     GALILEO GALILEI|galileo.galilei@e...|           2023| 300.00|     USD|         Pisa|12 Telescope Ln, ...|     P145|  PENDING|              04|                  No|        Gold|          0|\n",
      "|      1025|           ARISTOTLE|aristotle@example...|           2023| 200.50|     USD|       Athens|101 Philosophy Sq...|     P146| REFUNDED|              04|                  No|        Gold|          0|\n",
      "|      1026|            SOCRATES|socrates@example.com|           2023|   0.00|     USD|       Athens|   202 Agora, Greece|     P147|COMPLETED|              04|                  No|      Bronze|          0|\n",
      "|      1027|               PLATO|   plato@example.com|           2023| 400.99|     USD|       Athens|303 Academy Rd, G...|     P148|  PENDING|              04|                  No|        Gold|          0|\n",
      "|      1028|           CONFUCIUS|confucius@example...|           2023| 180.75|     USD|      Beijing| 9 Wisdom Way, China|     P149|COMPLETED|              04|                  No|      Silver|          0|\n",
      "|      1029|            SOCRATES|socrates@example.com|           2023|   0.00|     USD|       Athens|   202 Agora, Greece|     P147|COMPLETED|              04|                  No|      Bronze|          0|\n",
      "|      1030|             SUN TZU| sun.tzu@example.com|           2023| 220.00|     USD|      Beijing|66 Strategy St, C...|     P150|DELIVERED|              04|                  No|        Gold|          1|\n",
      "|      1031|      MAHATMA GANDHI|mahatma.gandhi@ex...|           2023| 150.00|     USD|    New Delhi|  77 Peace Rd, India|     P151|COMPLETED|              04|                  No|      Silver|          0|\n",
      "|      1032|      BENAZIR BHUTTO|benazir.bhutto@ex...|           2023|  80.50|     USD|      Karachi|88 Freedom Ln, Pa...|     P152| RETURNED|              04|                  No|      Bronze|          0|\n",
      "|      1033|       INDIRA GANDHI|indira.gandhi@exa...|           2023| 220.30|     USD|    New Delhi|99 Leadership Dr,...|     P153|DELIVERED|              04|                  No|        Gold|          1|\n",
      "|      1034|    JAWAHARLAL NEHRU|   nehru@example.com|           2023| 510.00|     USD|    Allahabad|100 Vision St, India|     P154|  PENDING|              04|                 Yes|    Platinum|          0|\n",
      "|      1035|       MOTHER TERESA|mother.teresa@exa...|           2023|  75.75|     USD|      Kolkata|12 Compassion Rd,...|     P155|COMPLETED|              04|                  No|      Bronze|          0|\n",
      "|      1036|       RONALD REAGAN|ronald.reagan@exa...|           2023| 430.00|     USD|  Los Angeles|13 Hollywood Blvd...|     P156| REFUNDED|              04|                  No|        Gold|          0|\n",
      "|      1037|   WINSTON CHURCHILL|winston.churchill...|           2023|  95.50|     USD|       London|   14 Victory Ln, UK|     P157|  PENDING|              04|                  No|      Bronze|          0|\n",
      "|      1038|  FRANKLIN ROOSEVELT|franklin.roosevel...|           2023| 350.00|     USD|     New York|15 Presidential R...|     P158|COMPLETED|              04|                  No|        Gold|          0|\n",
      "|      1039|   BENJAMIN FRANKLIN|ben.franklin@exam...|           2023| 270.00|     USD| Philadelphia|   16 Liberty St, PA|     P159|DELIVERED|              04|                  No|        Gold|          1|\n",
      "|      1040|   GEORGE WASHINGTON|george.washington...|           2023|1000.00|     USD| Mount Vernon|1 Independence Ha...|     P160|COMPLETED|              05|                 Yes|    Platinum|          0|\n",
      "|      1041|    THOMAS JEFFERSON|thomas.jefferson@...|           2023| 850.00|     USD|   Washington|2 Democracy Blvd, DC|     P161| RETURNED|              01|                 Yes|    Platinum|          0|\n",
      "|      1042|          JOHN ADAMS|john.adams@exampl...|           2023| 920.50|     USD|       Boston|    3 Freedom Rd, MA|     P162|  PENDING|              05|                 Yes|    Platinum|          0|\n",
      "|      1043|       JAMES MADISON|james.madison@exa...|           2023| 330.75|     USD|   Montpelier|4 Constitution Av...|     P163|COMPLETED|              01|                  No|        Gold|          0|\n",
      "|      1044|  ALEXANDER HAMILTON|alex.hamilton@exa...|           2023|1150.00|     USD|     New York|    5 Finance St, NY|     P164|DELIVERED|              05|                 Yes|    Platinum|          1|\n",
      "|      1045|      ANDREW JACKSON|andrew.jackson@ex...|           2023| 780.00|     USD| Jacksonville|   6 Southern Rd, FL|     P165|  PENDING|              02|                 Yes|    Platinum|          0|\n",
      "|      1046|    ULYSSES S. GRANT|ulysses.grant@exa...|           2023| 660.00|     USD|      Chicago|        7 War St, IL|     P166| REFUNDED|              05|                 Yes|    Platinum|          0|\n",
      "|      1047|  THEODORE ROOSEVELT|theodore.roosevel...|           2023| 540.00|     USD|     New York|8 Rough Rider Rd, NY|     P167|COMPLETED|              02|                 Yes|    Platinum|          0|\n",
      "|      1048|      WOODROW WILSON|woodrow.wilson@ex...|           2023| 470.50|     USD|   Washington|9 Progressive Pl, DC|     P168|  PENDING|              05|                  No|        Gold|          0|\n",
      "|      1049|FRANKLIN D. ROOSE...|franklin.d.roosev...|           2023| 630.00|     USD|    Hyde Park|10 Courthouse Rd, NY|     P169|DELIVERED|              03|                 Yes|    Platinum|          1|\n",
      "+----------+--------------------+--------------------+---------------+-------+--------+-------------+--------------------+---------+---------+----------------+--------------------+------------+-----------+\n",
      "\n"
     ]
    }
   ],
   "source": [
    "df_stg = spark.sql(\"SELECT * FROM customers_transaction_stg_tbl\")\n",
    "\n",
    "df_stg.show(50)"
   ]
  },
  {
   "cell_type": "code",
   "execution_count": 89,
   "id": "59cfde7e-94a4-4896-8221-d6e96488f56d",
   "metadata": {},
   "outputs": [
    {
     "name": "stdout",
     "output_type": "stream",
     "text": [
      "No nulls found in the selected columns.\n"
     ]
    }
   ],
   "source": [
    "from pyspark.sql.functions import col, when, sum\n",
    "\n",
    "# Run the null check\n",
    "null_summary = df_stg.select([\n",
    "    sum(when(col(c).isNull(), 1).otherwise(0)).alias(c + \"_nulls\") \n",
    "    for c in [\"CustomerID\", \"Email\", \"TransactionDate\", \"Amount\", \"ProductID\", \"Remarks\"]\n",
    "])\n",
    "\n",
    "# Collect the single row into a dictionary-like object\n",
    "result = null_summary.collect()[0].asDict()\n",
    "\n",
    "# Print only if nulls are found\n",
    "nulls_found = {k: v for k, v in result.items() if v > 0}\n",
    "\n",
    "if nulls_found:\n",
    "    print(\"Nulls found in the following columns:\")\n",
    "    for k, v in nulls_found.items():\n",
    "        print(f\"{k}: {v}\")\n",
    "else:\n",
    "    print(\"No nulls found in the selected columns.\")"
   ]
  },
  {
   "cell_type": "code",
   "execution_count": 90,
   "id": "41c76a26-8e81-4e8f-b11c-8c97cf54eb09",
   "metadata": {},
   "outputs": [
    {
     "name": "stdout",
     "output_type": "stream",
     "text": [
      "All email addresses are valid.\n"
     ]
    }
   ],
   "source": [
    "from pyspark.sql.functions import regexp_extract, col\n",
    "\n",
    "# Validate emails using regex\n",
    "df_cleaned = df_stg.withColumn(\n",
    "    \"email_valid\", regexp_extract(col(\"Email\"), r\"^[\\w\\.-]+@[\\w\\.-]+\\.\\w+$\", 0)\n",
    ")\n",
    "\n",
    "# Filter out invalid ones\n",
    "invalid_emails = df_cleaned.filter(col(\"email_valid\") == \"\").select(\"Email\")\n",
    "\n",
    "# Show the invalid emails if any exist\n",
    "if invalid_emails.count() > 0:\n",
    "    print(\"Invalid email addresses found:\")\n",
    "    invalid_emails.show()\n",
    "else:\n",
    "    print(\"All email addresses are valid.\")"
   ]
  },
  {
   "cell_type": "code",
   "execution_count": 92,
   "id": "cfda20d4-ee3a-4352-a148-8dfc095f9dfa",
   "metadata": {},
   "outputs": [
    {
     "name": "stdout",
     "output_type": "stream",
     "text": [
      "All values in 'Remarks' column are valid.\n"
     ]
    }
   ],
   "source": [
    "from pyspark.sql.functions import col\n",
    "\n",
    "valid_remarks = [\"REFUNDED\", \"RETURNED\", \"DELIVERED\", \"COMPLETED\", \"PENDING\"]\n",
    "\n",
    "# Filter for unexpected remarks\n",
    "invalid_remarks = df_stg.filter(~col(\"Remarks\").isin(valid_remarks)).select(\"Remarks\").distinct()\n",
    "\n",
    "# Display results if any invalid values found\n",
    "if invalid_remarks.count() > 0:\n",
    "    print(\"Invalid 'Remarks' values found:\")\n",
    "    invalid_remarks.show()\n",
    "else:\n",
    "    print(\"All values in 'Remarks' column are valid.\")"
   ]
  },
  {
   "cell_type": "code",
   "execution_count": 121,
   "id": "fce80f31-5ecd-41d1-b9ce-cc439cd8abc2",
   "metadata": {},
   "outputs": [
    {
     "name": "stdout",
     "output_type": "stream",
     "text": [
      "No duplicate transactions detected.\n"
     ]
    }
   ],
   "source": [
    "from pyspark.sql.functions import col\n",
    "\n",
    "# Group by relevant fields and count duplicates\n",
    "duplicates = df_stg.groupBy(\"CustomerID\", \"TransactionDate\", \"ProductID\") \\\n",
    "    .count().filter(\"count > 1\")\n",
    "\n",
    "# Print result only if duplicates exist\n",
    "if duplicates.count() > 0:\n",
    "    print(\"Duplicate transactions found based on CustomerID, TransactionDate, and ProductID:\")\n",
    "    duplicates.show()\n",
    "else:\n",
    "    print(\"No duplicate transactions detected.\")"
   ]
  },
  {
   "cell_type": "code",
   "execution_count": 120,
   "id": "079083a1-4da8-4332-ad6c-07d4a09461bc",
   "metadata": {},
   "outputs": [],
   "source": [
    "df_stg = df_stg.dropDuplicates([\"CustomerID\", \"TransactionDate\", \"ProductID\"])"
   ]
  },
  {
   "cell_type": "code",
   "execution_count": 96,
   "id": "21719644-5653-4eb1-89a5-80d2d4fb750c",
   "metadata": {},
   "outputs": [
    {
     "name": "stdout",
     "output_type": "stream",
     "text": [
      "All Amount values are within the valid range.\n"
     ]
    }
   ],
   "source": [
    "from pyspark.sql.functions import col\n",
    "\n",
    "# Filter for invalid Amount values\n",
    "invalid_amounts = df_stg.filter((col(\"Amount\") < 0) | (col(\"Amount\") > 10000)).select(\"Amount\")\n",
    "\n",
    "# Check and print result\n",
    "if invalid_amounts.count() > 0:\n",
    "    print(\"Invalid Amount values found (less than 0 or greater than 10,000):\")\n",
    "    invalid_amounts.show()\n",
    "else:\n",
    "    print(\"All Amount values are within the valid range.\")"
   ]
  },
  {
   "cell_type": "code",
   "execution_count": 97,
   "id": "ba898efd-a651-482e-9f90-de944b5a6f69",
   "metadata": {},
   "outputs": [
    {
     "name": "stdout",
     "output_type": "stream",
     "text": [
      "+----------+--------------------+--------------------+---------------+-------+--------+-------------+--------------------+---------+---------+----------------+--------------------+------------+-----------+\n",
      "|CustomerID|                Name|               Email|TransactionDate| Amount|Currency|     Location|             Address|ProductID|  Remarks|TransactionMonth|HighValueTransaction|CustomerTier|IsDelivered|\n",
      "+----------+--------------------+--------------------+---------------+-------+--------+-------------+--------------------+---------+---------+----------------+--------------------+------------+-----------+\n",
      "|      1001|            JOHN DOE|    john.doe@xyz.com|           2023| 120.50|     USD|     New York| 123 Baker St,NY,USA|     P123|  PENDING|              04|                  No|      Silver|          0|\n",
      "|      1002|            JANE DOE|    jane.doe@xyz.com|           2023|  98.60|     USD|       Boston|  456 Elm Street, MA|     P124|DELIVERED|              04|                  No|      Bronze|          1|\n",
      "|      1003|        ROBERT SMITH|   rob.smith@xyz.com|           2023|   0.00|     USD|  Los Angeles|  789 Sunset Blvd,CA|     P125|  PENDING|              04|                  No|      Bronze|          0|\n",
      "|      1004|        MARY JOHNSON|         tcs@xyz.com|           2023| 205.00|     USD|      Chicago|   321 Pine, IL, USA|     P123| REFUNDED|              04|                  No|        Gold|          0|\n",
      "|      1005|               ALICE|alice.williams@xy...|           2023| 300.25|     USD|       Boston|         404 5th Ave|     P000|  PENDING|              04|                  No|        Gold|          0|\n",
      "|      1006|                1001|        mike@xyz.com|           2023|   0.00|     USD|       Dallas|    900 Highland, TX|     P127|  PENDING|              04|                  No|      Bronze|          0|\n",
      "|      1007|           DAVID, JR|     davidjr@xyz.com|           2023|  85.99|     USD|San Francisco|     12 Mission Blvd|     P128|COMPLETED|              04|                  No|      Bronze|          0|\n",
      "|      1008|           ANA MARÍA|   ana.maria@xyz.com|           2023|  99.99|     EUR|       Madrid|    Calle 12, Madrid|     P129|COMPLETED|              04|                  No|      Bronze|          0|\n",
      "|      1009|          LÉA DUBOIS|  lea.dubois@xyz.com|           2023| 112.10|     EUR|        Paris| 45 Rue Saint, Paris|     P130|  PENDING|              04|                  No|      Silver|          0|\n",
      "|      1010|          MARK TWAIN|mark.twain@exampl...|           2023| 150.00|     USD|    San Diego|    789 Ocean Dr, CA|     P131|COMPLETED|              04|                  No|      Silver|          0|\n",
      "|      1011|      SAMANTHA GREEN|sam.green@example...|           2023| 250.75|     USD|      Seattle|     101 Pine St, WA|     P132|DELIVERED|              04|                  No|        Gold|          1|\n",
      "|      1012|     THOMAS ANDERSON|thomas.anderson@e...|           2023| 330.50|     USD|      Chicago|   202 Maple Ave, IL|     P133|  PENDING|              04|                  No|        Gold|          0|\n",
      "|      1013|            EVA CHEN|eva.chen@example.com|           2023| 499.99|     USD|  Los Angeles|303 Hollywood Blv...|     P134| REFUNDED|              04|                  No|        Gold|          0|\n",
      "|      1014|          LARRY PAGE|larry.page@exampl...|           2023| 800.00|     USD|Mountain View|    1 Google Way, CA|     P135|COMPLETED|              04|                 Yes|    Platinum|          0|\n",
      "|      1015|     SERENA WILLIAMS|serena.williams@e...|           2023| 600.50|     USD|  Los Angeles|    11 Sports Dr, CA|     P136|DELIVERED|              04|                 Yes|    Platinum|          1|\n",
      "|      1016|           ELON MUSK|elon.musk@example...|           2023| 999.99|     USD|    Palo Alto|   100 SpaceX Rd, CA|     P137|  PENDING|              04|                 Yes|    Platinum|          0|\n",
      "|      1017|        ADA LOVELACE|ada.lovelace@exam...|           2023|  75.00|     USD|       London| 15 Algorithm Ln, UK|     P138|COMPLETED|              04|                  No|      Bronze|          0|\n",
      "|      1018|        GRACE HOPPER|grace.hopper@exam...|           2023| 120.00|     USD|    Arlington|      45 Navy Rd, VA|     P139|DELIVERED|              04|                  No|      Silver|          1|\n",
      "|      1019|         ALAN TURING|alan.turing@examp...|           2023|   0.00|     USD|   Manchester| 23 Computing St, UK|     P140|  PENDING|              04|                  No|      Bronze|          0|\n",
      "|      1020|        NIKOLA TESLA|nikola.tesla@exam...|           2023| 450.00|     USD|     New York| 67 Electric Ave, NY|     P141| REFUNDED|              04|                  No|        Gold|          0|\n",
      "|      1021|         MARIE CURIE|marie.curie@examp...|           2023| 350.00|     USD|        Paris|89 Science Rd, Fr...|     P142|COMPLETED|              04|                  No|        Gold|          0|\n",
      "|      1022|        ISAAC NEWTON|isaac.newton@exam...|           2023| 675.25|     USD|       London|   34 Gravity St, UK|     P143|  PENDING|              04|                 Yes|    Platinum|          0|\n",
      "|      1023|     STEPHEN HAWKING|stephen.hawking@e...|           2023| 500.00|     USD|    Cambridge|77 Universe Blvd, UK|     P144|DELIVERED|              04|                  No|    Platinum|          1|\n",
      "|      1024|     GALILEO GALILEI|galileo.galilei@e...|           2023| 300.00|     USD|         Pisa|12 Telescope Ln, ...|     P145|  PENDING|              04|                  No|        Gold|          0|\n",
      "|      1025|           ARISTOTLE|aristotle@example...|           2023| 200.50|     USD|       Athens|101 Philosophy Sq...|     P146| REFUNDED|              04|                  No|        Gold|          0|\n",
      "|      1026|            SOCRATES|socrates@example.com|           2023|   0.00|     USD|       Athens|   202 Agora, Greece|     P147|COMPLETED|              04|                  No|      Bronze|          0|\n",
      "|      1027|               PLATO|   plato@example.com|           2023| 400.99|     USD|       Athens|303 Academy Rd, G...|     P148|  PENDING|              04|                  No|        Gold|          0|\n",
      "|      1028|           CONFUCIUS|confucius@example...|           2023| 180.75|     USD|      Beijing| 9 Wisdom Way, China|     P149|COMPLETED|              04|                  No|      Silver|          0|\n",
      "|      1029|            SOCRATES|socrates@example.com|           2023|   0.00|     USD|       Athens|   202 Agora, Greece|     P147|COMPLETED|              04|                  No|      Bronze|          0|\n",
      "|      1030|             SUN TZU| sun.tzu@example.com|           2023| 220.00|     USD|      Beijing|66 Strategy St, C...|     P150|DELIVERED|              04|                  No|        Gold|          1|\n",
      "|      1031|      MAHATMA GANDHI|mahatma.gandhi@ex...|           2023| 150.00|     USD|    New Delhi|  77 Peace Rd, India|     P151|COMPLETED|              04|                  No|      Silver|          0|\n",
      "|      1032|      BENAZIR BHUTTO|benazir.bhutto@ex...|           2023|  80.50|     USD|      Karachi|88 Freedom Ln, Pa...|     P152| RETURNED|              04|                  No|      Bronze|          0|\n",
      "|      1033|       INDIRA GANDHI|indira.gandhi@exa...|           2023| 220.30|     USD|    New Delhi|99 Leadership Dr,...|     P153|DELIVERED|              04|                  No|        Gold|          1|\n",
      "|      1034|    JAWAHARLAL NEHRU|   nehru@example.com|           2023| 510.00|     USD|    Allahabad|100 Vision St, India|     P154|  PENDING|              04|                 Yes|    Platinum|          0|\n",
      "|      1035|       MOTHER TERESA|mother.teresa@exa...|           2023|  75.75|     USD|      Kolkata|12 Compassion Rd,...|     P155|COMPLETED|              04|                  No|      Bronze|          0|\n",
      "|      1036|       RONALD REAGAN|ronald.reagan@exa...|           2023| 430.00|     USD|  Los Angeles|13 Hollywood Blvd...|     P156| REFUNDED|              04|                  No|        Gold|          0|\n",
      "|      1037|   WINSTON CHURCHILL|winston.churchill...|           2023|  95.50|     USD|       London|   14 Victory Ln, UK|     P157|  PENDING|              04|                  No|      Bronze|          0|\n",
      "|      1038|  FRANKLIN ROOSEVELT|franklin.roosevel...|           2023| 350.00|     USD|     New York|15 Presidential R...|     P158|COMPLETED|              04|                  No|        Gold|          0|\n",
      "|      1039|   BENJAMIN FRANKLIN|ben.franklin@exam...|           2023| 270.00|     USD| Philadelphia|   16 Liberty St, PA|     P159|DELIVERED|              04|                  No|        Gold|          1|\n",
      "|      1040|   GEORGE WASHINGTON|george.washington...|           2023|1000.00|     USD| Mount Vernon|1 Independence Ha...|     P160|COMPLETED|              05|                 Yes|    Platinum|          0|\n",
      "|      1041|    THOMAS JEFFERSON|thomas.jefferson@...|           2023| 850.00|     USD|   Washington|2 Democracy Blvd, DC|     P161| RETURNED|              01|                 Yes|    Platinum|          0|\n",
      "|      1042|          JOHN ADAMS|john.adams@exampl...|           2023| 920.50|     USD|       Boston|    3 Freedom Rd, MA|     P162|  PENDING|              05|                 Yes|    Platinum|          0|\n",
      "|      1043|       JAMES MADISON|james.madison@exa...|           2023| 330.75|     USD|   Montpelier|4 Constitution Av...|     P163|COMPLETED|              01|                  No|        Gold|          0|\n",
      "|      1044|  ALEXANDER HAMILTON|alex.hamilton@exa...|           2023|1150.00|     USD|     New York|    5 Finance St, NY|     P164|DELIVERED|              05|                 Yes|    Platinum|          1|\n",
      "|      1045|      ANDREW JACKSON|andrew.jackson@ex...|           2023| 780.00|     USD| Jacksonville|   6 Southern Rd, FL|     P165|  PENDING|              02|                 Yes|    Platinum|          0|\n",
      "|      1046|    ULYSSES S. GRANT|ulysses.grant@exa...|           2023| 660.00|     USD|      Chicago|        7 War St, IL|     P166| REFUNDED|              05|                 Yes|    Platinum|          0|\n",
      "|      1047|  THEODORE ROOSEVELT|theodore.roosevel...|           2023| 540.00|     USD|     New York|8 Rough Rider Rd, NY|     P167|COMPLETED|              02|                 Yes|    Platinum|          0|\n",
      "|      1048|      WOODROW WILSON|woodrow.wilson@ex...|           2023| 470.50|     USD|   Washington|9 Progressive Pl, DC|     P168|  PENDING|              05|                  No|        Gold|          0|\n",
      "|      1049|FRANKLIN D. ROOSE...|franklin.d.roosev...|           2023| 630.00|     USD|    Hyde Park|10 Courthouse Rd, NY|     P169|DELIVERED|              03|                 Yes|    Platinum|          1|\n",
      "+----------+--------------------+--------------------+---------------+-------+--------+-------------+--------------------+---------+---------+----------------+--------------------+------------+-----------+\n",
      "\n"
     ]
    }
   ],
   "source": [
    "df_stg.show(50)"
   ]
  },
  {
   "cell_type": "code",
   "execution_count": 122,
   "id": "6f83d0da-19ff-4792-8012-d9cdcd8de1fd",
   "metadata": {},
   "outputs": [
    {
     "name": "stdout",
     "output_type": "stream",
     "text": [
      "root\n",
      " |-- CustomerID: integer (nullable = true)\n",
      " |-- Name: string (nullable = true)\n",
      " |-- Email: string (nullable = true)\n",
      " |-- TransactionDate: string (nullable = true)\n",
      " |-- Amount: decimal(10,2) (nullable = true)\n",
      " |-- Currency: string (nullable = true)\n",
      " |-- Location: string (nullable = true)\n",
      " |-- Address: string (nullable = true)\n",
      " |-- ProductID: string (nullable = true)\n",
      " |-- Remarks: string (nullable = true)\n",
      " |-- TransactionMonth: string (nullable = true)\n",
      " |-- HighValueTransaction: string (nullable = true)\n",
      " |-- CustomerTier: string (nullable = true)\n",
      " |-- IsDelivered: integer (nullable = true)\n",
      "\n"
     ]
    }
   ],
   "source": [
    "df_stg.printSchema()"
   ]
  },
  {
   "cell_type": "code",
   "execution_count": null,
   "id": "7339bd57-cfe1-41b0-b247-d3fe7aa0fd76",
   "metadata": {},
   "outputs": [
    {
     "name": "stdout",
     "output_type": "stream",
     "text": [
      "Failed to write data: An error occurred while calling o1287.jdbc.\n",
      ": java.lang.ClassNotFoundException: org.postgresql.Driver\n",
      "\tat java.base/java.net.URLClassLoader.findClass(URLClassLoader.java:476)\n",
      "\tat java.base/java.lang.ClassLoader.loadClass(ClassLoader.java:593)\n",
      "\tat java.base/java.lang.ClassLoader.loadClass(ClassLoader.java:526)\n",
      "\tat org.apache.spark.sql.execution.datasources.jdbc.DriverRegistry$.register(DriverRegistry.scala:46)\n",
      "\tat org.apache.spark.sql.execution.datasources.jdbc.JDBCOptions.$anonfun$driverClass$1(JDBCOptions.scala:103)\n",
      "\tat org.apache.spark.sql.execution.datasources.jdbc.JDBCOptions.$anonfun$driverClass$1$adapted(JDBCOptions.scala:103)\n",
      "\tat scala.Option.foreach(Option.scala:407)\n",
      "\tat org.apache.spark.sql.execution.datasources.jdbc.JDBCOptions.<init>(JDBCOptions.scala:103)\n",
      "\tat org.apache.spark.sql.execution.datasources.jdbc.JdbcOptionsInWrite.<init>(JDBCOptions.scala:254)\n",
      "\tat org.apache.spark.sql.execution.datasources.jdbc.JdbcOptionsInWrite.<init>(JDBCOptions.scala:258)\n",
      "\tat org.apache.spark.sql.execution.datasources.jdbc.JdbcRelationProvider.createRelation(JdbcRelationProvider.scala:47)\n",
      "\tat org.apache.spark.sql.execution.datasources.SaveIntoDataSourceCommand.run(SaveIntoDataSourceCommand.scala:48)\n",
      "\tat org.apache.spark.sql.execution.command.ExecutedCommandExec.sideEffectResult$lzycompute(commands.scala:75)\n",
      "\tat org.apache.spark.sql.execution.command.ExecutedCommandExec.sideEffectResult(commands.scala:73)\n",
      "\tat org.apache.spark.sql.execution.command.ExecutedCommandExec.executeCollect(commands.scala:84)\n",
      "\tat org.apache.spark.sql.execution.QueryExecution$$anonfun$eagerlyExecuteCommands$1.$anonfun$applyOrElse$1(QueryExecution.scala:107)\n",
      "\tat org.apache.spark.sql.execution.SQLExecution$.$anonfun$withNewExecutionId$6(SQLExecution.scala:125)\n",
      "\tat org.apache.spark.sql.execution.SQLExecution$.withSQLConfPropagated(SQLExecution.scala:201)\n",
      "\tat org.apache.spark.sql.execution.SQLExecution$.$anonfun$withNewExecutionId$1(SQLExecution.scala:108)\n",
      "\tat org.apache.spark.sql.SparkSession.withActive(SparkSession.scala:900)\n",
      "\tat org.apache.spark.sql.execution.SQLExecution$.withNewExecutionId(SQLExecution.scala:66)\n",
      "\tat org.apache.spark.sql.execution.QueryExecution$$anonfun$eagerlyExecuteCommands$1.applyOrElse(QueryExecution.scala:107)\n",
      "\tat org.apache.spark.sql.execution.QueryExecution$$anonfun$eagerlyExecuteCommands$1.applyOrElse(QueryExecution.scala:98)\n",
      "\tat org.apache.spark.sql.catalyst.trees.TreeNode.$anonfun$transformDownWithPruning$1(TreeNode.scala:461)\n",
      "\tat org.apache.spark.sql.catalyst.trees.CurrentOrigin$.withOrigin(origin.scala:76)\n",
      "\tat org.apache.spark.sql.catalyst.trees.TreeNode.transformDownWithPruning(TreeNode.scala:461)\n",
      "\tat org.apache.spark.sql.catalyst.plans.logical.LogicalPlan.org$apache$spark$sql$catalyst$plans$logical$AnalysisHelper$$super$transformDownWithPruning(LogicalPlan.scala:32)\n",
      "\tat org.apache.spark.sql.catalyst.plans.logical.AnalysisHelper.transformDownWithPruning(AnalysisHelper.scala:267)\n",
      "\tat org.apache.spark.sql.catalyst.plans.logical.AnalysisHelper.transformDownWithPruning$(AnalysisHelper.scala:263)\n",
      "\tat org.apache.spark.sql.catalyst.plans.logical.LogicalPlan.transformDownWithPruning(LogicalPlan.scala:32)\n",
      "\tat org.apache.spark.sql.catalyst.plans.logical.LogicalPlan.transformDownWithPruning(LogicalPlan.scala:32)\n",
      "\tat org.apache.spark.sql.catalyst.trees.TreeNode.transformDown(TreeNode.scala:437)\n",
      "\tat org.apache.spark.sql.execution.QueryExecution.eagerlyExecuteCommands(QueryExecution.scala:98)\n",
      "\tat org.apache.spark.sql.execution.QueryExecution.commandExecuted$lzycompute(QueryExecution.scala:85)\n",
      "\tat org.apache.spark.sql.execution.QueryExecution.commandExecuted(QueryExecution.scala:83)\n",
      "\tat org.apache.spark.sql.execution.QueryExecution.assertCommandExecuted(QueryExecution.scala:142)\n",
      "\tat org.apache.spark.sql.DataFrameWriter.runCommand(DataFrameWriter.scala:869)\n",
      "\tat org.apache.spark.sql.DataFrameWriter.saveToV1Source(DataFrameWriter.scala:391)\n",
      "\tat org.apache.spark.sql.DataFrameWriter.saveInternal(DataFrameWriter.scala:364)\n",
      "\tat org.apache.spark.sql.DataFrameWriter.save(DataFrameWriter.scala:251)\n",
      "\tat org.apache.spark.sql.DataFrameWriter.jdbc(DataFrameWriter.scala:766)\n",
      "\tat java.base/jdk.internal.reflect.NativeMethodAccessorImpl.invoke0(Native Method)\n",
      "\tat java.base/jdk.internal.reflect.NativeMethodAccessorImpl.invoke(NativeMethodAccessorImpl.java:62)\n",
      "\tat java.base/jdk.internal.reflect.DelegatingMethodAccessorImpl.invoke(DelegatingMethodAccessorImpl.java:43)\n",
      "\tat java.base/java.lang.reflect.Method.invoke(Method.java:566)\n",
      "\tat py4j.reflection.MethodInvoker.invoke(MethodInvoker.java:244)\n",
      "\tat py4j.reflection.ReflectionEngine.invoke(ReflectionEngine.java:374)\n",
      "\tat py4j.Gateway.invoke(Gateway.java:282)\n",
      "\tat py4j.commands.AbstractCommand.invokeMethod(AbstractCommand.java:132)\n",
      "\tat py4j.commands.CallCommand.execute(CallCommand.java:79)\n",
      "\tat py4j.ClientServerConnection.waitForCommands(ClientServerConnection.java:182)\n",
      "\tat py4j.ClientServerConnection.run(ClientServerConnection.java:106)\n",
      "\tat java.base/java.lang.Thread.run(Thread.java:834)\n",
      "\n"
     ]
    }
   ],
   "source": [
    "try:\n",
    "    df_stg.write \\\n",
    "        .jdbc(\n",
    "            url=\"jdbc:postgresql://localhost:5433/postgres\",\n",
    "            table=\"customers_transaction\",\n",
    "            mode=\"append\", \n",
    "            properties={\n",
    "                \"user\": \"postgres\",\n",
    "                \"password\": \"SURI@walmt1999\",\n",
    "                \"driver\": \"org.postgresql.Driver\"\n",
    "            }\n",
    "        )\n",
    "    print(\"Data written successfully to 'customers_transaction' table in 'customer' database.\")\n",
    "except Exception as e:\n",
    "    print(\"Failed to write data:\", str(e))"
   ]
  },
  {
   "cell_type": "code",
   "execution_count": 126,
   "id": "a95002ee-4bcf-4008-9c97-df8f066bc176",
   "metadata": {},
   "outputs": [
    {
     "ename": "ModuleNotFoundError",
     "evalue": "No module named 'org'",
     "output_type": "error",
     "traceback": [
      "\u001b[31m---------------------------------------------------------------------------\u001b[39m",
      "\u001b[31mModuleNotFoundError\u001b[39m                       Traceback (most recent call last)",
      "\u001b[36mCell\u001b[39m\u001b[36m \u001b[39m\u001b[32mIn[126]\u001b[39m\u001b[32m, line 2\u001b[39m\n\u001b[32m      1\u001b[39m \u001b[38;5;28;01mfrom\u001b[39;00m\u001b[38;5;250m \u001b[39m\u001b[34;01mimportlib\u001b[39;00m\u001b[38;5;250m \u001b[39m\u001b[38;5;28;01mimport\u001b[39;00m util\n\u001b[32m----> \u001b[39m\u001b[32m2\u001b[39m \u001b[38;5;28mprint\u001b[39m(\u001b[43mutil\u001b[49m\u001b[43m.\u001b[49m\u001b[43mfind_spec\u001b[49m\u001b[43m(\u001b[49m\u001b[33;43m\"\u001b[39;49m\u001b[33;43morg.postgresql.Driver\u001b[39;49m\u001b[33;43m\"\u001b[39;49m\u001b[43m)\u001b[49m)\n",
      "\u001b[36mFile \u001b[39m\u001b[32m~\\AppData\\Local\\Programs\\Python\\Python311\\Lib\\importlib\\util.py:95\u001b[39m, in \u001b[36mfind_spec\u001b[39m\u001b[34m(name, package)\u001b[39m\n\u001b[32m     93\u001b[39m parent_name = fullname.rpartition(\u001b[33m'\u001b[39m\u001b[33m.\u001b[39m\u001b[33m'\u001b[39m)[\u001b[32m0\u001b[39m]\n\u001b[32m     94\u001b[39m \u001b[38;5;28;01mif\u001b[39;00m parent_name:\n\u001b[32m---> \u001b[39m\u001b[32m95\u001b[39m     parent = \u001b[38;5;28;43m__import__\u001b[39;49m\u001b[43m(\u001b[49m\u001b[43mparent_name\u001b[49m\u001b[43m,\u001b[49m\u001b[43m \u001b[49m\u001b[43mfromlist\u001b[49m\u001b[43m=\u001b[49m\u001b[43m[\u001b[49m\u001b[33;43m'\u001b[39;49m\u001b[33;43m__path__\u001b[39;49m\u001b[33;43m'\u001b[39;49m\u001b[43m]\u001b[49m\u001b[43m)\u001b[49m\n\u001b[32m     96\u001b[39m     \u001b[38;5;28;01mtry\u001b[39;00m:\n\u001b[32m     97\u001b[39m         parent_path = parent.__path__\n",
      "\u001b[31mModuleNotFoundError\u001b[39m: No module named 'org'"
     ]
    }
   ],
   "source": [
    "from importlib import util\n",
    "print(util.find_spec(\"org.postgresql.Driver\"))"
   ]
  },
  {
   "cell_type": "code",
   "execution_count": null,
   "id": "268628cc-b192-49eb-b7bc-0859f2d1d209",
   "metadata": {},
   "outputs": [],
   "source": []
  },
  {
   "cell_type": "code",
   "execution_count": null,
   "id": "3d72e93c-6031-46df-8457-21b53474a18a",
   "metadata": {},
   "outputs": [],
   "source": []
  }
 ],
 "metadata": {
  "kernelspec": {
   "display_name": "Python (PySpark)",
   "language": "python",
   "name": "pyspark_env"
  },
  "language_info": {
   "codemirror_mode": {
    "name": "ipython",
    "version": 3
   },
   "file_extension": ".py",
   "mimetype": "text/x-python",
   "name": "python",
   "nbconvert_exporter": "python",
   "pygments_lexer": "ipython3",
   "version": "3.11.9"
  }
 },
 "nbformat": 4,
 "nbformat_minor": 5
}
