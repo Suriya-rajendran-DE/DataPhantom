{
 "cells": [
  {
   "cell_type": "code",
   "execution_count": 1,
   "id": "305cb911-f765-4d58-8531-5eb14916a4b5",
   "metadata": {},
   "outputs": [],
   "source": [
    "from pyspark.sql import SparkSession\n",
    "\n",
    "spark = (\n",
    "    SparkSession\n",
    "    .builder\n",
    "    .appName(\"Retail-sales_analysis\")\n",
    "    .master(\"local[*]\")\n",
    "    .getOrCreate() \n",
    ")\n"
   ]
  },
  {
   "cell_type": "code",
   "execution_count": 2,
   "id": "fc216551-fa44-444c-a9b3-badfbf7f5d7e",
   "metadata": {
    "scrolled": true
   },
   "outputs": [
    {
     "data": {
      "text/html": [
       "\n",
       "            <div>\n",
       "                <p><b>SparkSession - in-memory</b></p>\n",
       "                \n",
       "        <div>\n",
       "            <p><b>SparkContext</b></p>\n",
       "\n",
       "            <p><a href=\"http://192.168.31.178:4040\">Spark UI</a></p>\n",
       "\n",
       "            <dl>\n",
       "              <dt>Version</dt>\n",
       "                <dd><code>v3.5.5</code></dd>\n",
       "              <dt>Master</dt>\n",
       "                <dd><code>local[*]</code></dd>\n",
       "              <dt>AppName</dt>\n",
       "                <dd><code>Retail-sales_analysis</code></dd>\n",
       "            </dl>\n",
       "        </div>\n",
       "        \n",
       "            </div>\n",
       "        "
      ],
      "text/plain": [
       "<pyspark.sql.session.SparkSession at 0x25549ed5450>"
      ]
     },
     "execution_count": 2,
     "metadata": {},
     "output_type": "execute_result"
    }
   ],
   "source": [
    "spark"
   ]
  },
  {
   "cell_type": "code",
   "execution_count": 33,
   "id": "853f18ee-6803-404f-9273-d0e3543c902a",
   "metadata": {},
   "outputs": [],
   "source": [
    "df = spark.read.csv(\"file:///D:/Apache_spark/datasets/retail_sales_dataset.csv\", header=True, inferSchema=True)"
   ]
  },
  {
   "cell_type": "code",
   "execution_count": 4,
   "id": "854c79e9-70c1-46ca-8086-61e1e7113ed3",
   "metadata": {
    "scrolled": true
   },
   "outputs": [
    {
     "name": "stdout",
     "output_type": "stream",
     "text": [
      "root\n",
      " |-- Transaction ID: integer (nullable = true)\n",
      " |-- Date: date (nullable = true)\n",
      " |-- Customer ID: string (nullable = true)\n",
      " |-- Gender: string (nullable = true)\n",
      " |-- Age: integer (nullable = true)\n",
      " |-- Product Category: string (nullable = true)\n",
      " |-- Quantity: integer (nullable = true)\n",
      " |-- Price per Unit: integer (nullable = true)\n",
      " |-- Total Amount: integer (nullable = true)\n",
      "\n"
     ]
    }
   ],
   "source": [
    "df.printSchema()"
   ]
  },
  {
   "cell_type": "code",
   "execution_count": 5,
   "id": "a9ad0dfc-3d1a-45dc-8114-e825aa2838b5",
   "metadata": {},
   "outputs": [
    {
     "data": {
      "text/plain": [
       "1"
      ]
     },
     "execution_count": 5,
     "metadata": {},
     "output_type": "execute_result"
    }
   ],
   "source": [
    "df.rdd.getNumPartitions()"
   ]
  },
  {
   "cell_type": "code",
   "execution_count": 8,
   "id": "488a1605-2f82-4cee-bb4f-801dd1ea0f9f",
   "metadata": {
    "collapsed": true,
    "jupyter": {
     "outputs_hidden": true
    }
   },
   "outputs": [
    {
     "name": "stdout",
     "output_type": "stream",
     "text": [
      "+--------------+----------+-----------+------+---+----------------+--------+--------------+------------+\n",
      "|Transaction ID|      Date|Customer ID|Gender|Age|Product Category|Quantity|Price per Unit|Total Amount|\n",
      "+--------------+----------+-----------+------+---+----------------+--------+--------------+------------+\n",
      "|             1|2023-11-24|    CUST001|  Male| 34|          Beauty|       3|            50|         150|\n",
      "|             2|2023-02-27|    CUST002|Female| 26|        Clothing|       2|           500|        1000|\n",
      "|             3|2023-01-13|    CUST003|  Male| 50|     Electronics|       1|            30|          30|\n",
      "|             4|2023-05-21|    CUST004|  Male| 37|        Clothing|       1|           500|         500|\n",
      "|             5|2023-05-06|    CUST005|  Male| 30|          Beauty|       2|            50|         100|\n",
      "|             6|2023-04-25|    CUST006|Female| 45|          Beauty|       1|            30|          30|\n",
      "|             7|2023-03-13|    CUST007|  Male| 46|        Clothing|       2|            25|          50|\n",
      "|             8|2023-02-22|    CUST008|  Male| 30|     Electronics|       4|            25|         100|\n",
      "|             9|2023-12-13|    CUST009|  Male| 63|     Electronics|       2|           300|         600|\n",
      "|            10|2023-10-07|    CUST010|Female| 52|        Clothing|       4|            50|         200|\n",
      "+--------------+----------+-----------+------+---+----------------+--------+--------------+------------+\n",
      "only showing top 10 rows\n",
      "\n"
     ]
    }
   ],
   "source": [
    "df.show(10)"
   ]
  },
  {
   "cell_type": "code",
   "execution_count": 34,
   "id": "56f56dc2-902a-48c8-892c-b5af1f201318",
   "metadata": {},
   "outputs": [],
   "source": [
    "df = df.toDF(\"Transaction_Id\", \"Date\", \"Customer_Id\", \"Gender\", \"Age\", \"Product_Category\", \"Quantity\", \"Price_Per_unit\", \"Total_Amount\")"
   ]
  },
  {
   "cell_type": "code",
   "execution_count": 35,
   "id": "1f8f1c76-1783-40b9-a977-17e6ac0c312f",
   "metadata": {},
   "outputs": [
    {
     "name": "stdout",
     "output_type": "stream",
     "text": [
      "root\n",
      " |-- Transaction_Id: integer (nullable = true)\n",
      " |-- Date: date (nullable = true)\n",
      " |-- Customer_Id: string (nullable = true)\n",
      " |-- Gender: string (nullable = true)\n",
      " |-- Age: integer (nullable = true)\n",
      " |-- Product_Category: string (nullable = true)\n",
      " |-- Quantity: integer (nullable = true)\n",
      " |-- Price_Per_unit: integer (nullable = true)\n",
      " |-- Total_Amount: integer (nullable = true)\n",
      "\n"
     ]
    }
   ],
   "source": [
    "df.printSchema()"
   ]
  },
  {
   "cell_type": "code",
   "execution_count": 11,
   "id": "3f45f998-5f23-4e85-8295-2319ad4ead5a",
   "metadata": {},
   "outputs": [
    {
     "data": {
      "text/plain": [
       "StructType([StructField('Transaction_Id', IntegerType(), True), StructField('Date', DateType(), True), StructField('Customer_Id', StringType(), True), StructField('Gender', StringType(), True), StructField('Age', IntegerType(), True), StructField('Product_Category', StringType(), True), StructField('Quantity', IntegerType(), True), StructField('Price_Per_unit', IntegerType(), True), StructField('Total_Amount', IntegerType(), True)])"
      ]
     },
     "execution_count": 11,
     "metadata": {},
     "output_type": "execute_result"
    }
   ],
   "source": [
    "df.schema"
   ]
  },
  {
   "cell_type": "code",
   "execution_count": 36,
   "id": "c571502f-7d6f-4cb2-8828-238498d1c674",
   "metadata": {},
   "outputs": [],
   "source": [
    "### **1. Date Transformations**\n",
    "#- **Extract Year, Month, Day:** \n",
    "from pyspark.sql.functions import year, month, dayofmonth\n",
    "\n",
    "df = df.withColumn(\"Year\", year(df[\"Date\"]))\n",
    "df = df.withColumn(\"Month\", month(df[\"Date\"]))\n",
    "df = df.withColumn(\"Day\", dayofmonth(df[\"Date\"]))\n"
   ]
  },
  {
   "cell_type": "code",
   "execution_count": 13,
   "id": "295c452b-e9f7-4d78-aa89-3b2b41d89953",
   "metadata": {
    "collapsed": true,
    "jupyter": {
     "outputs_hidden": true
    },
    "scrolled": true
   },
   "outputs": [
    {
     "data": {
      "text/plain": [
       "[Row(Transaction_Id=1, Date=datetime.date(2023, 11, 24), Customer_Id='CUST001', Gender='Male', Age=34, Product_Category='Beauty', Quantity=3, Price_Per_unit=50, Total_Amount=150, Year=2023, Month=11, Day=24),\n",
       " Row(Transaction_Id=2, Date=datetime.date(2023, 2, 27), Customer_Id='CUST002', Gender='Female', Age=26, Product_Category='Clothing', Quantity=2, Price_Per_unit=500, Total_Amount=1000, Year=2023, Month=2, Day=27),\n",
       " Row(Transaction_Id=3, Date=datetime.date(2023, 1, 13), Customer_Id='CUST003', Gender='Male', Age=50, Product_Category='Electronics', Quantity=1, Price_Per_unit=30, Total_Amount=30, Year=2023, Month=1, Day=13),\n",
       " Row(Transaction_Id=4, Date=datetime.date(2023, 5, 21), Customer_Id='CUST004', Gender='Male', Age=37, Product_Category='Clothing', Quantity=1, Price_Per_unit=500, Total_Amount=500, Year=2023, Month=5, Day=21),\n",
       " Row(Transaction_Id=5, Date=datetime.date(2023, 5, 6), Customer_Id='CUST005', Gender='Male', Age=30, Product_Category='Beauty', Quantity=2, Price_Per_unit=50, Total_Amount=100, Year=2023, Month=5, Day=6),\n",
       " Row(Transaction_Id=6, Date=datetime.date(2023, 4, 25), Customer_Id='CUST006', Gender='Female', Age=45, Product_Category='Beauty', Quantity=1, Price_Per_unit=30, Total_Amount=30, Year=2023, Month=4, Day=25),\n",
       " Row(Transaction_Id=7, Date=datetime.date(2023, 3, 13), Customer_Id='CUST007', Gender='Male', Age=46, Product_Category='Clothing', Quantity=2, Price_Per_unit=25, Total_Amount=50, Year=2023, Month=3, Day=13),\n",
       " Row(Transaction_Id=8, Date=datetime.date(2023, 2, 22), Customer_Id='CUST008', Gender='Male', Age=30, Product_Category='Electronics', Quantity=4, Price_Per_unit=25, Total_Amount=100, Year=2023, Month=2, Day=22),\n",
       " Row(Transaction_Id=9, Date=datetime.date(2023, 12, 13), Customer_Id='CUST009', Gender='Male', Age=63, Product_Category='Electronics', Quantity=2, Price_Per_unit=300, Total_Amount=600, Year=2023, Month=12, Day=13),\n",
       " Row(Transaction_Id=10, Date=datetime.date(2023, 10, 7), Customer_Id='CUST010', Gender='Female', Age=52, Product_Category='Clothing', Quantity=4, Price_Per_unit=50, Total_Amount=200, Year=2023, Month=10, Day=7)]"
      ]
     },
     "execution_count": 13,
     "metadata": {},
     "output_type": "execute_result"
    }
   ],
   "source": [
    "df.take(10)"
   ]
  },
  {
   "cell_type": "code",
   "execution_count": 33,
   "id": "c04fa768-16f7-4ed4-a240-edd5e720e644",
   "metadata": {
    "collapsed": true,
    "jupyter": {
     "outputs_hidden": true
    },
    "scrolled": true
   },
   "outputs": [
    {
     "data": {
      "text/plain": [
       "[Row(Transaction_Id=1, Date=datetime.date(2023, 11, 24), Customer_Id='CUST001', Gender='Male', Age=34, Product_Category='Beauty', Quantity=3, Price_Per_unit=50, Total_Amount=150, Year=2023, Month=11, Day=24),\n",
       " Row(Transaction_Id=2, Date=datetime.date(2023, 2, 27), Customer_Id='CUST002', Gender='Female', Age=26, Product_Category='Clothing', Quantity=2, Price_Per_unit=500, Total_Amount=1000, Year=2023, Month=2, Day=27),\n",
       " Row(Transaction_Id=3, Date=datetime.date(2023, 1, 13), Customer_Id='CUST003', Gender='Male', Age=50, Product_Category='Electronics', Quantity=1, Price_Per_unit=30, Total_Amount=30, Year=2023, Month=1, Day=13),\n",
       " Row(Transaction_Id=4, Date=datetime.date(2023, 5, 21), Customer_Id='CUST004', Gender='Male', Age=37, Product_Category='Clothing', Quantity=1, Price_Per_unit=500, Total_Amount=500, Year=2023, Month=5, Day=21),\n",
       " Row(Transaction_Id=5, Date=datetime.date(2023, 5, 6), Customer_Id='CUST005', Gender='Male', Age=30, Product_Category='Beauty', Quantity=2, Price_Per_unit=50, Total_Amount=100, Year=2023, Month=5, Day=6),\n",
       " Row(Transaction_Id=6, Date=datetime.date(2023, 4, 25), Customer_Id='CUST006', Gender='Female', Age=45, Product_Category='Beauty', Quantity=1, Price_Per_unit=30, Total_Amount=30, Year=2023, Month=4, Day=25),\n",
       " Row(Transaction_Id=7, Date=datetime.date(2023, 3, 13), Customer_Id='CUST007', Gender='Male', Age=46, Product_Category='Clothing', Quantity=2, Price_Per_unit=25, Total_Amount=50, Year=2023, Month=3, Day=13),\n",
       " Row(Transaction_Id=8, Date=datetime.date(2023, 2, 22), Customer_Id='CUST008', Gender='Male', Age=30, Product_Category='Electronics', Quantity=4, Price_Per_unit=25, Total_Amount=100, Year=2023, Month=2, Day=22),\n",
       " Row(Transaction_Id=9, Date=datetime.date(2023, 12, 13), Customer_Id='CUST009', Gender='Male', Age=63, Product_Category='Electronics', Quantity=2, Price_Per_unit=300, Total_Amount=600, Year=2023, Month=12, Day=13),\n",
       " Row(Transaction_Id=10, Date=datetime.date(2023, 10, 7), Customer_Id='CUST010', Gender='Female', Age=52, Product_Category='Clothing', Quantity=4, Price_Per_unit=50, Total_Amount=200, Year=2023, Month=10, Day=7)]"
      ]
     },
     "execution_count": 33,
     "metadata": {},
     "output_type": "execute_result"
    }
   ],
   "source": [
    "df.limit(10).collect()"
   ]
  },
  {
   "cell_type": "code",
   "execution_count": 37,
   "id": "f290ed17-5861-4262-b6ce-e27fdd94ee2a",
   "metadata": {},
   "outputs": [],
   "source": [
    "from pyspark.sql.functions import when, col\n",
    "\n",
    "df = df.withColumn(\"Age_Group\", when(col(\"Age\") < 20, \"Teenage\")\n",
    "                                .when((col(\"Age\") >= 20) & (col(\"Age\") <= 40), \"Yougnger_Adult\")\n",
    "                                .when((col(\"Age\") >= 40) & (col(\"age\") < 60), \"Middle_Aged\")\n",
    "                                .otherwise(\"Senior\"))\n"
   ]
  },
  {
   "cell_type": "code",
   "execution_count": 38,
   "id": "32eee872-9164-481e-a395-621b1eddab92",
   "metadata": {},
   "outputs": [
    {
     "name": "stdout",
     "output_type": "stream",
     "text": [
      "+--------------+----------+-----------+------+---+----------------+--------+--------------+------------+----+-----+---+--------------+\n",
      "|Transaction_Id|      Date|Customer_Id|Gender|Age|Product_Category|Quantity|Price_Per_unit|Total_Amount|Year|Month|Day|     Age_Group|\n",
      "+--------------+----------+-----------+------+---+----------------+--------+--------------+------------+----+-----+---+--------------+\n",
      "|             1|2023-11-24|    CUST001|  Male| 34|          Beauty|       3|            50|         150|2023|   11| 24|Yougnger_Adult|\n",
      "|             2|2023-02-27|    CUST002|Female| 26|        Clothing|       2|           500|        1000|2023|    2| 27|Yougnger_Adult|\n",
      "|             3|2023-01-13|    CUST003|  Male| 50|     Electronics|       1|            30|          30|2023|    1| 13|   Middle_Aged|\n",
      "|             4|2023-05-21|    CUST004|  Male| 37|        Clothing|       1|           500|         500|2023|    5| 21|Yougnger_Adult|\n",
      "|             5|2023-05-06|    CUST005|  Male| 30|          Beauty|       2|            50|         100|2023|    5|  6|Yougnger_Adult|\n",
      "|             6|2023-04-25|    CUST006|Female| 45|          Beauty|       1|            30|          30|2023|    4| 25|   Middle_Aged|\n",
      "|             7|2023-03-13|    CUST007|  Male| 46|        Clothing|       2|            25|          50|2023|    3| 13|   Middle_Aged|\n",
      "|             8|2023-02-22|    CUST008|  Male| 30|     Electronics|       4|            25|         100|2023|    2| 22|Yougnger_Adult|\n",
      "|             9|2023-12-13|    CUST009|  Male| 63|     Electronics|       2|           300|         600|2023|   12| 13|        Senior|\n",
      "|            10|2023-10-07|    CUST010|Female| 52|        Clothing|       4|            50|         200|2023|   10|  7|   Middle_Aged|\n",
      "|            11|2023-02-14|    CUST011|  Male| 23|        Clothing|       2|            50|         100|2023|    2| 14|Yougnger_Adult|\n",
      "|            12|2023-10-30|    CUST012|  Male| 35|          Beauty|       3|            25|          75|2023|   10| 30|Yougnger_Adult|\n",
      "|            13|2023-08-05|    CUST013|  Male| 22|     Electronics|       3|           500|        1500|2023|    8|  5|Yougnger_Adult|\n",
      "|            14|2023-01-17|    CUST014|  Male| 64|        Clothing|       4|            30|         120|2023|    1| 17|        Senior|\n",
      "|            15|2023-01-16|    CUST015|Female| 42|     Electronics|       4|           500|        2000|2023|    1| 16|   Middle_Aged|\n",
      "|            16|2023-02-17|    CUST016|  Male| 19|        Clothing|       3|           500|        1500|2023|    2| 17|       Teenage|\n",
      "|            17|2023-04-22|    CUST017|Female| 27|        Clothing|       4|            25|         100|2023|    4| 22|Yougnger_Adult|\n",
      "|            18|2023-04-30|    CUST018|Female| 47|     Electronics|       2|            25|          50|2023|    4| 30|   Middle_Aged|\n",
      "|            19|2023-09-16|    CUST019|Female| 62|        Clothing|       2|            25|          50|2023|    9| 16|        Senior|\n",
      "|            20|2023-11-05|    CUST020|  Male| 22|        Clothing|       3|           300|         900|2023|   11|  5|Yougnger_Adult|\n",
      "+--------------+----------+-----------+------+---+----------------+--------+--------------+------------+----+-----+---+--------------+\n",
      "only showing top 20 rows\n",
      "\n"
     ]
    }
   ],
   "source": [
    "df.show()"
   ]
  },
  {
   "cell_type": "code",
   "execution_count": 39,
   "id": "81ef9678-64c3-45a8-b75f-602fd8e263bd",
   "metadata": {},
   "outputs": [
    {
     "name": "stdout",
     "output_type": "stream",
     "text": [
      "+--------------+----------+-----------+------+---+----------------+--------+--------------+------------+----+-----+---+--------------+--------------------+\n",
      "|Transaction_Id|Date      |Customer_Id|Gender|Age|Product_Category|Quantity|Price_Per_unit|Total_Amount|Year|Month|Day|Age_Group     |Price_Normalized    |\n",
      "+--------------+----------+-----------+------+---+----------------+--------+--------------+------------+----+-----+---+--------------+--------------------+\n",
      "|1             |2023-11-24|CUST001    |Male  |34 |Beauty          |3       |50            |150         |2023|11   |24 |Yougnger_Adult|0.05263157894736842 |\n",
      "|2             |2023-02-27|CUST002    |Female|26 |Clothing        |2       |500           |1000        |2023|2    |27 |Yougnger_Adult|1.0                 |\n",
      "|3             |2023-01-13|CUST003    |Male  |50 |Electronics     |1       |30            |30          |2023|1    |13 |Middle_Aged   |0.010526315789473684|\n",
      "|4             |2023-05-21|CUST004    |Male  |37 |Clothing        |1       |500           |500         |2023|5    |21 |Yougnger_Adult|1.0                 |\n",
      "|5             |2023-05-06|CUST005    |Male  |30 |Beauty          |2       |50            |100         |2023|5    |6  |Yougnger_Adult|0.05263157894736842 |\n",
      "|6             |2023-04-25|CUST006    |Female|45 |Beauty          |1       |30            |30          |2023|4    |25 |Middle_Aged   |0.010526315789473684|\n",
      "|7             |2023-03-13|CUST007    |Male  |46 |Clothing        |2       |25            |50          |2023|3    |13 |Middle_Aged   |0.0                 |\n",
      "|8             |2023-02-22|CUST008    |Male  |30 |Electronics     |4       |25            |100         |2023|2    |22 |Yougnger_Adult|0.0                 |\n",
      "|9             |2023-12-13|CUST009    |Male  |63 |Electronics     |2       |300           |600         |2023|12   |13 |Senior        |0.5789473684210527  |\n",
      "|10            |2023-10-07|CUST010    |Female|52 |Clothing        |4       |50            |200         |2023|10   |7  |Middle_Aged   |0.05263157894736842 |\n",
      "+--------------+----------+-----------+------+---+----------------+--------+--------------+------------+----+-----+---+--------------+--------------------+\n",
      "only showing top 10 rows\n",
      "\n"
     ]
    }
   ],
   "source": [
    "### **6. Price Normalization**\n",
    "from pyspark.sql.functions import col, min, max\n",
    "\n",
    "min_price = df.select(min(col(\"Price_Per_unit\"))).collect()[0][0]\n",
    "max_price = df.select(max(col(\"Price_Per_unit\"))).collect()[0][0]\n",
    "\n",
    "df = df.withColumn(\"Price_Normalized\", (col(\"Price_Per_unit\") - min_price) / (max_price - min_price))\n",
    "\n",
    "df.show(10, truncate=False)"
   ]
  },
  {
   "cell_type": "code",
   "execution_count": 41,
   "id": "64b6dfc4-ab6c-40db-aa83-d8e3bd5549b2",
   "metadata": {
    "collapsed": true,
    "jupyter": {
     "outputs_hidden": true
    }
   },
   "outputs": [
    {
     "name": "stdout",
     "output_type": "stream",
     "text": [
      "+--------------+----------+-----------+------+---+----------------+--------+--------------+------------+----+-----+---+--------------+--------------------+\n",
      "|Transaction_Id|Date      |Customer_Id|Gender|Age|Product_Category|Quantity|Price_Per_unit|Total_Amount|Year|Month|Day|Age_Group     |Price_Normalized    |\n",
      "+--------------+----------+-----------+------+---+----------------+--------+--------------+------------+----+-----+---+--------------+--------------------+\n",
      "|1             |2023-11-24|CUST001    |Male  |34 |Beauty          |3       |50            |150         |2023|11   |24 |Yougnger_Adult|0.05263157894736842 |\n",
      "|2             |2023-02-27|CUST002    |Female|26 |Clothing        |2       |500           |1000        |2023|2    |27 |Yougnger_Adult|1.0                 |\n",
      "|3             |2023-01-13|CUST003    |Male  |50 |Electronics     |1       |30            |30          |2023|1    |13 |Middle_Aged   |0.010526315789473684|\n",
      "|4             |2023-05-21|CUST004    |Male  |37 |Clothing        |1       |500           |500         |2023|5    |21 |Yougnger_Adult|1.0                 |\n",
      "|5             |2023-05-06|CUST005    |Male  |30 |Beauty          |2       |50            |100         |2023|5    |6  |Yougnger_Adult|0.05263157894736842 |\n",
      "|6             |2023-04-25|CUST006    |Female|45 |Beauty          |1       |30            |30          |2023|4    |25 |Middle_Aged   |0.010526315789473684|\n",
      "|7             |2023-03-13|CUST007    |Male  |46 |Clothing        |2       |25            |50          |2023|3    |13 |Middle_Aged   |0.0                 |\n",
      "|8             |2023-02-22|CUST008    |Male  |30 |Electronics     |4       |25            |100         |2023|2    |22 |Yougnger_Adult|0.0                 |\n",
      "|9             |2023-12-13|CUST009    |Male  |63 |Electronics     |2       |300           |600         |2023|12   |13 |Senior        |0.5789473684210527  |\n",
      "|10            |2023-10-07|CUST010    |Female|52 |Clothing        |4       |50            |200         |2023|10   |7  |Middle_Aged   |0.05263157894736842 |\n",
      "+--------------+----------+-----------+------+---+----------------+--------+--------------+------------+----+-----+---+--------------+--------------------+\n",
      "only showing top 10 rows\n",
      "\n"
     ]
    }
   ],
   "source": [
    "df.show(10, truncate=False)"
   ]
  },
  {
   "cell_type": "code",
   "execution_count": 40,
   "id": "dd3ead10-4df5-4b1b-9e9c-b04cc570d3e5",
   "metadata": {},
   "outputs": [],
   "source": [
    "from pyspark.sql.functions import round, col\n",
    "\n",
    "df = df.withColumn(\"Price_Normalized\", round(col(\"Price_Normalized\"), 2))"
   ]
  },
  {
   "cell_type": "code",
   "execution_count": 41,
   "id": "471fbc91-cddc-4d51-93f5-d383bd62b94d",
   "metadata": {
    "scrolled": true
   },
   "outputs": [
    {
     "name": "stdout",
     "output_type": "stream",
     "text": [
      "+--------------+----------+-----------+------+---+----------------+--------+--------------+------------+----+-----+---+--------------+----------------+\n",
      "|Transaction_Id|      Date|Customer_Id|Gender|Age|Product_Category|Quantity|Price_Per_unit|Total_Amount|Year|Month|Day|     Age_Group|Price_Normalized|\n",
      "+--------------+----------+-----------+------+---+----------------+--------+--------------+------------+----+-----+---+--------------+----------------+\n",
      "|             1|2023-11-24|    CUST001|  Male| 34|          Beauty|       3|            50|         150|2023|   11| 24|Yougnger_Adult|            0.05|\n",
      "|             2|2023-02-27|    CUST002|Female| 26|        Clothing|       2|           500|        1000|2023|    2| 27|Yougnger_Adult|             1.0|\n",
      "|             3|2023-01-13|    CUST003|  Male| 50|     Electronics|       1|            30|          30|2023|    1| 13|   Middle_Aged|            0.01|\n",
      "|             4|2023-05-21|    CUST004|  Male| 37|        Clothing|       1|           500|         500|2023|    5| 21|Yougnger_Adult|             1.0|\n",
      "|             5|2023-05-06|    CUST005|  Male| 30|          Beauty|       2|            50|         100|2023|    5|  6|Yougnger_Adult|            0.05|\n",
      "|             6|2023-04-25|    CUST006|Female| 45|          Beauty|       1|            30|          30|2023|    4| 25|   Middle_Aged|            0.01|\n",
      "|             7|2023-03-13|    CUST007|  Male| 46|        Clothing|       2|            25|          50|2023|    3| 13|   Middle_Aged|             0.0|\n",
      "|             8|2023-02-22|    CUST008|  Male| 30|     Electronics|       4|            25|         100|2023|    2| 22|Yougnger_Adult|             0.0|\n",
      "|             9|2023-12-13|    CUST009|  Male| 63|     Electronics|       2|           300|         600|2023|   12| 13|        Senior|            0.58|\n",
      "|            10|2023-10-07|    CUST010|Female| 52|        Clothing|       4|            50|         200|2023|   10|  7|   Middle_Aged|            0.05|\n",
      "+--------------+----------+-----------+------+---+----------------+--------+--------------+------------+----+-----+---+--------------+----------------+\n",
      "only showing top 10 rows\n",
      "\n"
     ]
    }
   ],
   "source": [
    "df.show(10)"
   ]
  },
  {
   "cell_type": "code",
   "execution_count": 20,
   "id": "9f49cccb-bf54-4e45-b6e3-06e2d1c0a08c",
   "metadata": {},
   "outputs": [],
   "source": [
    "df = df.drop(\"Rounded_Value\")"
   ]
  },
  {
   "cell_type": "code",
   "execution_count": 21,
   "id": "41833f6f-c3b8-4234-b4ee-6efddc795db2",
   "metadata": {
    "collapsed": true,
    "jupyter": {
     "outputs_hidden": true
    }
   },
   "outputs": [
    {
     "name": "stdout",
     "output_type": "stream",
     "text": [
      "+--------------+----------+-----------+------+---+----------------+--------+--------------+------------+----+-----+---+--------------+----------------+\n",
      "|Transaction_Id|      Date|Customer_Id|Gender|Age|Product_Category|Quantity|Price_Per_unit|Total_Amount|Year|Month|Day|     Age_Group|Price_Normalized|\n",
      "+--------------+----------+-----------+------+---+----------------+--------+--------------+------------+----+-----+---+--------------+----------------+\n",
      "|             1|2023-11-24|    CUST001|  Male| 34|          Beauty|       3|            50|         150|2023|   11| 24|Yougnger_Adult|            0.05|\n",
      "|             2|2023-02-27|    CUST002|Female| 26|        Clothing|       2|           500|        1000|2023|    2| 27|Yougnger_Adult|             1.0|\n",
      "|             3|2023-01-13|    CUST003|  Male| 50|     Electronics|       1|            30|          30|2023|    1| 13|   Middle_Aged|            0.01|\n",
      "|             4|2023-05-21|    CUST004|  Male| 37|        Clothing|       1|           500|         500|2023|    5| 21|Yougnger_Adult|             1.0|\n",
      "|             5|2023-05-06|    CUST005|  Male| 30|          Beauty|       2|            50|         100|2023|    5|  6|Yougnger_Adult|            0.05|\n",
      "|             6|2023-04-25|    CUST006|Female| 45|          Beauty|       1|            30|          30|2023|    4| 25|   Middle_Aged|            0.01|\n",
      "|             7|2023-03-13|    CUST007|  Male| 46|        Clothing|       2|            25|          50|2023|    3| 13|   Middle_Aged|             0.0|\n",
      "|             8|2023-02-22|    CUST008|  Male| 30|     Electronics|       4|            25|         100|2023|    2| 22|Yougnger_Adult|             0.0|\n",
      "|             9|2023-12-13|    CUST009|  Male| 63|     Electronics|       2|           300|         600|2023|   12| 13|        Senior|            0.58|\n",
      "|            10|2023-10-07|    CUST010|Female| 52|        Clothing|       4|            50|         200|2023|   10|  7|   Middle_Aged|            0.05|\n",
      "+--------------+----------+-----------+------+---+----------------+--------+--------------+------------+----+-----+---+--------------+----------------+\n",
      "only showing top 10 rows\n",
      "\n"
     ]
    }
   ],
   "source": [
    "df.show(10)"
   ]
  },
  {
   "cell_type": "code",
   "execution_count": 42,
   "id": "c89eed5e-cb55-4418-a637-28295e4bb997",
   "metadata": {
    "scrolled": true
   },
   "outputs": [
    {
     "name": "stdout",
     "output_type": "stream",
     "text": [
      "+--------------+----------+-----------+------+---+----------------+--------+--------------+------------+----+-----+---+--------------+----------------+\n",
      "|Transaction_Id|      Date|Customer_Id|Gender|Age|Product_Category|Quantity|Price_Per_unit|Total_Amount|Year|Month|Day|     Age_Group|Price_Normalized|\n",
      "+--------------+----------+-----------+------+---+----------------+--------+--------------+------------+----+-----+---+--------------+----------------+\n",
      "|             1|2023-11-24|    CUST001|  Male| 34|          Beauty|       3|            50|         150|2023|   11| 24|Yougnger_Adult|            0.05|\n",
      "|             2|2023-02-27|    CUST002|Female| 26|        Clothing|       2|           500|        1000|2023|    2| 27|Yougnger_Adult|             1.0|\n",
      "|             3|2023-01-13|    CUST003|  Male| 50|     Electronics|       1|            30|          30|2023|    1| 13|   Middle_Aged|            0.01|\n",
      "|             4|2023-05-21|    CUST004|  Male| 37|        Clothing|       1|           500|         500|2023|    5| 21|Yougnger_Adult|             1.0|\n",
      "|             5|2023-05-06|    CUST005|  Male| 30|          Beauty|       2|            50|         100|2023|    5|  6|Yougnger_Adult|            0.05|\n",
      "|             6|2023-04-25|    CUST006|Female| 45|          Beauty|       1|            30|          30|2023|    4| 25|   Middle_Aged|            0.01|\n",
      "|             7|2023-03-13|    CUST007|  Male| 46|        Clothing|       2|            25|          50|2023|    3| 13|   Middle_Aged|             0.0|\n",
      "|             8|2023-02-22|    CUST008|  Male| 30|     Electronics|       4|            25|         100|2023|    2| 22|Yougnger_Adult|             0.0|\n",
      "|             9|2023-12-13|    CUST009|  Male| 63|     Electronics|       2|           300|         600|2023|   12| 13|        Senior|            0.58|\n",
      "|            10|2023-10-07|    CUST010|Female| 52|        Clothing|       4|            50|         200|2023|   10|  7|   Middle_Aged|            0.05|\n",
      "+--------------+----------+-----------+------+---+----------------+--------+--------------+------------+----+-----+---+--------------+----------------+\n",
      "only showing top 10 rows\n",
      "\n"
     ]
    }
   ],
   "source": [
    "from pyspark.sql.functions import col\n",
    "\n",
    "df = df.withColumn(\"Total_Amount\", col(\"Quantity\") * col(\"Price_per_Unit\"))\n",
    "\n",
    "df.show(10)\n"
   ]
  },
  {
   "cell_type": "code",
   "execution_count": 27,
   "id": "8f3e8062-a3ec-49ec-93c3-221a06549f25",
   "metadata": {},
   "outputs": [
    {
     "data": {
      "text/plain": [
       "1000"
      ]
     },
     "execution_count": 27,
     "metadata": {},
     "output_type": "execute_result"
    }
   ],
   "source": [
    "from pyspark.sql.functions import col\n",
    "\n",
    "df.select(col(\"Customer_Id\")).distinct().count()"
   ]
  },
  {
   "cell_type": "code",
   "execution_count": 43,
   "id": "d8432dec-0ddd-48bd-b8df-913db60f7e19",
   "metadata": {},
   "outputs": [
    {
     "name": "stdout",
     "output_type": "stream",
     "text": [
      "+--------------+----------+-----------+------+---+----------------+--------+--------------+------------+----+-----+---+--------------+----------------+----------------+\n",
      "|Transaction_Id|      Date|Customer_Id|Gender|Age|Product_Category|Quantity|Price_Per_unit|Total_Amount|Year|Month|Day|     Age_Group|Price_Normalized|Moving_Avg_Sales|\n",
      "+--------------+----------+-----------+------+---+----------------+--------+--------------+------------+----+-----+---+--------------+----------------+----------------+\n",
      "|             1|2023-11-24|    CUST001|  Male| 34|          Beauty|       3|            50|         150|2023|   11| 24|Yougnger_Adult|            0.05|           150.0|\n",
      "|             2|2023-02-27|    CUST002|Female| 26|        Clothing|       2|           500|        1000|2023|    2| 27|Yougnger_Adult|             1.0|          1000.0|\n",
      "|             3|2023-01-13|    CUST003|  Male| 50|     Electronics|       1|            30|          30|2023|    1| 13|   Middle_Aged|            0.01|            30.0|\n",
      "|             4|2023-05-21|    CUST004|  Male| 37|        Clothing|       1|           500|         500|2023|    5| 21|Yougnger_Adult|             1.0|           500.0|\n",
      "|             5|2023-05-06|    CUST005|  Male| 30|          Beauty|       2|            50|         100|2023|    5|  6|Yougnger_Adult|            0.05|           100.0|\n",
      "|             6|2023-04-25|    CUST006|Female| 45|          Beauty|       1|            30|          30|2023|    4| 25|   Middle_Aged|            0.01|            30.0|\n",
      "|             7|2023-03-13|    CUST007|  Male| 46|        Clothing|       2|            25|          50|2023|    3| 13|   Middle_Aged|             0.0|            50.0|\n",
      "|             8|2023-02-22|    CUST008|  Male| 30|     Electronics|       4|            25|         100|2023|    2| 22|Yougnger_Adult|             0.0|           100.0|\n",
      "|             9|2023-12-13|    CUST009|  Male| 63|     Electronics|       2|           300|         600|2023|   12| 13|        Senior|            0.58|           600.0|\n",
      "|            10|2023-10-07|    CUST010|Female| 52|        Clothing|       4|            50|         200|2023|   10|  7|   Middle_Aged|            0.05|           200.0|\n",
      "+--------------+----------+-----------+------+---+----------------+--------+--------------+------------+----+-----+---+--------------+----------------+----------------+\n",
      "only showing top 10 rows\n",
      "\n"
     ]
    }
   ],
   "source": [
    "### **1. Window Functions for Advanced Analytics**\n",
    "\n",
    "from pyspark.sql.window import Window\n",
    "from pyspark.sql.functions import avg\n",
    "\n",
    "window_spec = Window.partitionBy(\"Customer_Id\").orderBy(\"Date\").rowsBetween(-2, 0)\n",
    "df = df.withColumn(\"Moving_Avg_Sales\", avg(\"Total_Amount\").over(window_spec))\n",
    "\n",
    "df.show(10)\n"
   ]
  },
  {
   "cell_type": "code",
   "execution_count": 16,
   "id": "69054da6-a4cf-410c-881b-b3760bab3b95",
   "metadata": {},
   "outputs": [
    {
     "name": "stdout",
     "output_type": "stream",
     "text": [
      "+--------------+----------+-----------+------+---+----------------+--------+--------------+------------+----+-----+---+--------------+----------------+----------------+\n",
      "|Transaction_Id|Date      |Customer_Id|Gender|Age|Product_Category|Quantity|Price_Per_unit|Total_Amount|Year|Month|Day|Age_Group     |Price_Normalized|Moving_Avg_Sales|\n",
      "+--------------+----------+-----------+------+---+----------------+--------+--------------+------------+----+-----+---+--------------+----------------+----------------+\n",
      "|1             |2023-11-24|CUST001    |Male  |34 |Beauty          |3       |50            |150         |2023|11   |24 |Yougnger_Adult|0.05            |150.0           |\n",
      "|2             |2023-02-27|CUST002    |Female|26 |Clothing        |2       |500           |1000        |2023|2    |27 |Yougnger_Adult|1.0             |1000.0          |\n",
      "|3             |2023-01-13|CUST003    |Male  |50 |Electronics     |1       |30            |30          |2023|1    |13 |Middle_Aged   |0.01            |30.0            |\n",
      "|4             |2023-05-21|CUST004    |Male  |37 |Clothing        |1       |500           |500         |2023|5    |21 |Yougnger_Adult|1.0             |500.0           |\n",
      "|5             |2023-05-06|CUST005    |Male  |30 |Beauty          |2       |50            |100         |2023|5    |6  |Yougnger_Adult|0.05            |100.0           |\n",
      "|6             |2023-04-25|CUST006    |Female|45 |Beauty          |1       |30            |30          |2023|4    |25 |Middle_Aged   |0.01            |30.0            |\n",
      "|7             |2023-03-13|CUST007    |Male  |46 |Clothing        |2       |25            |50          |2023|3    |13 |Middle_Aged   |0.0             |50.0            |\n",
      "|8             |2023-02-22|CUST008    |Male  |30 |Electronics     |4       |25            |100         |2023|2    |22 |Yougnger_Adult|0.0             |100.0           |\n",
      "|9             |2023-12-13|CUST009    |Male  |63 |Electronics     |2       |300           |600         |2023|12   |13 |Senior        |0.58            |600.0           |\n",
      "|10            |2023-10-07|CUST010    |Female|52 |Clothing        |4       |50            |200         |2023|10   |7  |Middle_Aged   |0.05            |200.0           |\n",
      "+--------------+----------+-----------+------+---+----------------+--------+--------------+------------+----+-----+---+--------------+----------------+----------------+\n",
      "only showing top 10 rows\n",
      "\n"
     ]
    }
   ],
   "source": [
    "df.show(10, truncate=False)"
   ]
  },
  {
   "cell_type": "code",
   "execution_count": 44,
   "id": "b5de628a-cc1d-478c-a803-1887ff742313",
   "metadata": {},
   "outputs": [
    {
     "name": "stdout",
     "output_type": "stream",
     "text": [
      "+--------------+----------+-----------+------+---+----------------+--------+--------------+------------+----+-----+---+--------------+----------------+----------------+----------------+\n",
      "|Transaction_Id|      Date|Customer_Id|Gender|Age|Product_Category|Quantity|Price_Per_unit|Total_Amount|Year|Month|Day|     Age_Group|Price_Normalized|Moving_Avg_Sales|Transaction_Rank|\n",
      "+--------------+----------+-----------+------+---+----------------+--------+--------------+------------+----+-----+---+--------------+----------------+----------------+----------------+\n",
      "|             1|2023-11-24|    CUST001|  Male| 34|          Beauty|       3|            50|         150|2023|   11| 24|Yougnger_Adult|            0.05|           150.0|               1|\n",
      "|             2|2023-02-27|    CUST002|Female| 26|        Clothing|       2|           500|        1000|2023|    2| 27|Yougnger_Adult|             1.0|          1000.0|               1|\n",
      "|             3|2023-01-13|    CUST003|  Male| 50|     Electronics|       1|            30|          30|2023|    1| 13|   Middle_Aged|            0.01|            30.0|               1|\n",
      "|             4|2023-05-21|    CUST004|  Male| 37|        Clothing|       1|           500|         500|2023|    5| 21|Yougnger_Adult|             1.0|           500.0|               1|\n",
      "|             5|2023-05-06|    CUST005|  Male| 30|          Beauty|       2|            50|         100|2023|    5|  6|Yougnger_Adult|            0.05|           100.0|               1|\n",
      "|             6|2023-04-25|    CUST006|Female| 45|          Beauty|       1|            30|          30|2023|    4| 25|   Middle_Aged|            0.01|            30.0|               1|\n",
      "|             7|2023-03-13|    CUST007|  Male| 46|        Clothing|       2|            25|          50|2023|    3| 13|   Middle_Aged|             0.0|            50.0|               1|\n",
      "|             8|2023-02-22|    CUST008|  Male| 30|     Electronics|       4|            25|         100|2023|    2| 22|Yougnger_Adult|             0.0|           100.0|               1|\n",
      "|             9|2023-12-13|    CUST009|  Male| 63|     Electronics|       2|           300|         600|2023|   12| 13|        Senior|            0.58|           600.0|               1|\n",
      "|            10|2023-10-07|    CUST010|Female| 52|        Clothing|       4|            50|         200|2023|   10|  7|   Middle_Aged|            0.05|           200.0|               1|\n",
      "+--------------+----------+-----------+------+---+----------------+--------+--------------+------------+----+-----+---+--------------+----------------+----------------+----------------+\n",
      "only showing top 10 rows\n",
      "\n"
     ]
    }
   ],
   "source": [
    "# **Rank Transactions by High-Value Customers**\n",
    "\n",
    "from pyspark.sql.functions import dense_rank\n",
    "window_spec = Window.partitionBy(\"Customer_Id\").orderBy(df[\"Total_Amount\"].desc())\n",
    "df = df.withColumn(\"Transaction_Rank\", dense_rank().over(window_spec))\n",
    "\n",
    "df.show(10)"
   ]
  },
  {
   "cell_type": "code",
   "execution_count": 45,
   "id": "a4647cda-fea6-43ac-94ce-072141d50595",
   "metadata": {},
   "outputs": [
    {
     "name": "stdout",
     "output_type": "stream",
     "text": [
      "+--------------+----------+-----------+------+---+----------------+--------+--------------+------------+----+-----+---+--------------+----------------+----------------+----------------+\n",
      "|Transaction_Id|      Date|Customer_Id|Gender|Age|Product_Category|Quantity|Price_Per_unit|Total_Amount|Year|Month|Day|     Age_Group|Price_Normalized|Moving_Avg_Sales|Transaction_Rank|\n",
      "+--------------+----------+-----------+------+---+----------------+--------+--------------+------------+----+-----+---+--------------+----------------+----------------+----------------+\n",
      "|             1|2023-11-24|    CUST001|  Male| 34|          Beauty|       3|            50|         150|2023|   11| 24|Yougnger_Adult|            0.05|           150.0|               1|\n",
      "|             2|2023-02-27|    CUST002|Female| 26|        Clothing|       2|           500|        1000|2023|    2| 27|Yougnger_Adult|             1.0|          1000.0|               1|\n",
      "|             3|2023-01-13|    CUST003|  Male| 50|     Electronics|       1|            30|          30|2023|    1| 13|   Middle_Aged|            0.01|            30.0|               1|\n",
      "|             4|2023-05-21|    CUST004|  Male| 37|        Clothing|       1|           500|         500|2023|    5| 21|Yougnger_Adult|             1.0|           500.0|               1|\n",
      "|             5|2023-05-06|    CUST005|  Male| 30|          Beauty|       2|            50|         100|2023|    5|  6|Yougnger_Adult|            0.05|           100.0|               1|\n",
      "|             6|2023-04-25|    CUST006|Female| 45|          Beauty|       1|            30|          30|2023|    4| 25|   Middle_Aged|            0.01|            30.0|               1|\n",
      "|             7|2023-03-13|    CUST007|  Male| 46|        Clothing|       2|            25|          50|2023|    3| 13|   Middle_Aged|             0.0|            50.0|               1|\n",
      "|             8|2023-02-22|    CUST008|  Male| 30|     Electronics|       4|            25|         100|2023|    2| 22|Yougnger_Adult|             0.0|           100.0|               1|\n",
      "|             9|2023-12-13|    CUST009|  Male| 63|     Electronics|       2|           300|         600|2023|   12| 13|        Senior|            0.58|           600.0|               1|\n",
      "|            10|2023-10-07|    CUST010|Female| 52|        Clothing|       4|            50|         200|2023|   10|  7|   Middle_Aged|            0.05|           200.0|               1|\n",
      "+--------------+----------+-----------+------+---+----------------+--------+--------------+------------+----+-----+---+--------------+----------------+----------------+----------------+\n",
      "only showing top 10 rows\n",
      "\n"
     ]
    }
   ],
   "source": [
    "### **1. Window Functions for Advanced Analytics**\n",
    "\n",
    "from pyspark.sql.window import Window\n",
    "from pyspark.sql.functions import avg\n",
    "\n",
    "window_spec = Window.partitionBy(\"Customer_Id\").orderBy(\"Quantity\").rangeBetween(-30, 0)  # Last 30 days rolling avg\n",
    "df = df.withColumn(\"Moving_Avg_Sales\", avg(\"Total_Amount\").over(window_spec))\n",
    "\n",
    "df.show(10)"
   ]
  },
  {
   "cell_type": "code",
   "execution_count": 47,
   "id": "69cc16f0-d5fc-457a-9dc8-8b395dfb88ba",
   "metadata": {},
   "outputs": [
    {
     "name": "stdout",
     "output_type": "stream",
     "text": [
      "+----------------+--------------+-------------+------------------+----------------+-----------------+\n",
      "|Product_Category|     Age_Group|Total_Revenue|         Avg_Price|Unique_Customers|Transaction_Count|\n",
      "+----------------+--------------+-------------+------------------+----------------+-----------------+\n",
      "|        Clothing|Yougnger_Adult|      73105.0|184.18367346938774|             147|              147|\n",
      "|          Beauty|Yougnger_Adult|      69210.0|198.64963503649636|             137|              137|\n",
      "|     Electronics|   Middle_Aged|      62400.0| 172.5174825174825|             143|              143|\n",
      "|        Clothing|   Middle_Aged|      60530.0|175.68627450980392|             153|              153|\n",
      "|     Electronics|Yougnger_Adult|      60495.0|             172.0|             140|              140|\n",
      "|          Beauty|   Middle_Aged|      59360.0| 182.8861788617886|             123|              123|\n",
      "|     Electronics|        Senior|      24065.0| 221.3953488372093|              43|               43|\n",
      "|        Clothing|        Senior|      15130.0|120.36585365853658|              41|               41|\n",
      "|     Electronics|       Teenage|       9945.0|            246.25|              16|               16|\n",
      "|          Beauty|       Teenage|       9325.0|             207.5|              16|               16|\n",
      "|        Clothing|       Teenage|       6815.0|             228.5|              10|               10|\n",
      "|          Beauty|        Senior|       5620.0|112.09677419354838|              31|               31|\n",
      "+----------------+--------------+-------------+------------------+----------------+-----------------+\n",
      "\n"
     ]
    }
   ],
   "source": [
    "# Top-Selling Product Categories\n",
    "\n",
    "from pyspark.sql.functions import sum, col, avg, count, countDistinct\n",
    "\n",
    "df_grouped = df.groupBy(\"Product_Category\", \"Age_Group\").agg(\n",
    "    sum(col(\"Total_Amount\").cast(\"float\")).alias(\"Total_Revenue\"),\n",
    "    avg(col(\"Price_Per_unit\")).alias(\"Avg_Price\"),\n",
    "    countDistinct(col(\"Customer_Id\")).alias(\"Unique_Customers\"),\n",
    "    count(col(\"Transaction_Id\")).alias(\"Transaction_Count\")\n",
    ").orderBy(col(\"Total_Revenue\").desc())\n",
    "\n",
    "df_grouped.show()"
   ]
  },
  {
   "cell_type": "code",
   "execution_count": 48,
   "id": "d0ee3079-3f0f-42c6-8429-12ee63866000",
   "metadata": {},
   "outputs": [
    {
     "name": "stdout",
     "output_type": "stream",
     "text": [
      "root\n",
      " |-- Transaction_Id: integer (nullable = true)\n",
      " |-- Date: date (nullable = true)\n",
      " |-- Customer_Id: string (nullable = true)\n",
      " |-- Gender: string (nullable = true)\n",
      " |-- Age: integer (nullable = true)\n",
      " |-- Product_Category: string (nullable = true)\n",
      " |-- Quantity: integer (nullable = true)\n",
      " |-- Price_Per_unit: integer (nullable = true)\n",
      " |-- Total_Amount: integer (nullable = true)\n",
      " |-- Year: integer (nullable = true)\n",
      " |-- Month: integer (nullable = true)\n",
      " |-- Day: integer (nullable = true)\n",
      " |-- Age_Group: string (nullable = false)\n",
      " |-- Price_Normalized: double (nullable = true)\n",
      " |-- Moving_Avg_Sales: double (nullable = true)\n",
      " |-- Transaction_Rank: integer (nullable = false)\n",
      "\n"
     ]
    }
   ],
   "source": [
    "df.printSchema()"
   ]
  },
  {
   "cell_type": "code",
   "execution_count": 52,
   "id": "82496c31-d9a7-4244-9295-fe1ee3328708",
   "metadata": {},
   "outputs": [
    {
     "name": "stdout",
     "output_type": "stream",
     "text": [
      "+----------------+--------------+-------------+---------+----------------+-----------------+\n",
      "|Product_Category|     Age_Group|Total_Revenue|Avg_Price|Unique_Customers|Transaction_Count|\n",
      "+----------------+--------------+-------------+---------+----------------+-----------------+\n",
      "|        Clothing|Yougnger_Adult|      73105.0|   184.18|             147|              147|\n",
      "|          Beauty|Yougnger_Adult|      69210.0|   198.65|             137|              137|\n",
      "|     Electronics|   Middle_Aged|      62400.0|   172.52|             143|              143|\n",
      "|        Clothing|   Middle_Aged|      60530.0|   175.69|             153|              153|\n",
      "|     Electronics|Yougnger_Adult|      60495.0|    172.0|             140|              140|\n",
      "|          Beauty|   Middle_Aged|      59360.0|   182.89|             123|              123|\n",
      "|     Electronics|        Senior|      24065.0|    221.4|              43|               43|\n",
      "|        Clothing|        Senior|      15130.0|   120.37|              41|               41|\n",
      "|     Electronics|       Teenage|       9945.0|   246.25|              16|               16|\n",
      "|          Beauty|       Teenage|       9325.0|    207.5|              16|               16|\n",
      "|        Clothing|       Teenage|       6815.0|    228.5|              10|               10|\n",
      "|          Beauty|        Senior|       5620.0|    112.1|              31|               31|\n",
      "+----------------+--------------+-------------+---------+----------------+-----------------+\n",
      "\n"
     ]
    }
   ],
   "source": [
    "from pyspark.sql.functions import col , round\n",
    "\n",
    "df_grouped = df_grouped.withColumn(\"Avg_Price\", round(col(\"Avg_Price\"), 2))\n",
    "\n",
    "df_grouped.show()\n"
   ]
  },
  {
   "cell_type": "code",
   "execution_count": 53,
   "id": "86b2caa3-fac6-4b65-870a-c9af77964f7d",
   "metadata": {},
   "outputs": [],
   "source": [
    "spark.stop()"
   ]
  },
  {
   "cell_type": "code",
   "execution_count": null,
   "id": "530cd842-6a3e-4494-880b-17d0487147be",
   "metadata": {},
   "outputs": [],
   "source": []
  }
 ],
 "metadata": {
  "kernelspec": {
   "display_name": "Python (PySpark)",
   "language": "python",
   "name": "pyspark_env"
  },
  "language_info": {
   "codemirror_mode": {
    "name": "ipython",
    "version": 3
   },
   "file_extension": ".py",
   "mimetype": "text/x-python",
   "name": "python",
   "nbconvert_exporter": "python",
   "pygments_lexer": "ipython3",
   "version": "3.11.9"
  }
 },
 "nbformat": 4,
 "nbformat_minor": 5
}
